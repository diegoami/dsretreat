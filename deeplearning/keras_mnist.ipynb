{
 "cells": [
  {
   "cell_type": "code",
   "execution_count": 1,
   "metadata": {
    "collapsed": true
   },
   "outputs": [],
   "source": [
    "import matplotlib \n",
    "matplotlib.use('Agg') \n",
    "% matplotlib inline\n",
    "import matplotlib.pyplot as plt"
   ]
  },
  {
   "cell_type": "code",
   "execution_count": 2,
   "metadata": {
    "collapsed": true
   },
   "outputs": [],
   "source": [
    "def plot_logs(history):\n",
    "    evaluation_cost = history.history['val_loss']\n",
    "    evaluation_accuracy = history.history['val_acc']\n",
    "    training_cost = history.history['loss']\n",
    "    training_accuracy = history.history['acc']\n",
    "    f, (ax1, ax2) = plt.subplots(1, 2)\n",
    "    f.set_figwidth(10)\n",
    "    ax1.plot(evaluation_cost,label= 'test')\n",
    "    ax1.plot(training_cost, label='train')\n",
    "    ax1.set_title('Cost')\n",
    "    ax1.legend()\n",
    "    ax2.plot(evaluation_accuracy, label='test')\n",
    "    ax2.plot(training_accuracy, label='train')\n",
    "    ax2.set_title('Accuracy')\n",
    "    ax2.legend(loc='lower right')"
   ]
  },
  {
   "cell_type": "code",
   "execution_count": 8,
   "metadata": {},
   "outputs": [
    {
     "name": "stdout",
     "output_type": "stream",
     "text": [
      "50000 train samples\n",
      "10000 test samples\n"
     ]
    }
   ],
   "source": [
    "import numpy as np\n",
    "np.random.seed(1337)  # for reproducibility\n",
    "\n",
    "from keras.datasets import mnist\n",
    "from keras.models import Sequential\n",
    "from keras.layers.core import Dense, Dropout, Activation\n",
    "from keras.optimizers import SGD\n",
    "from keras.utils import np_utils\n",
    "\n",
    "\n",
    "batch_size = 10\n",
    "nb_classes = 10\n",
    "nb_epoch = 30\n",
    "\n",
    "# the data, shuffled and split between train and test sets\n",
    "(X_train, y_train), (X_test, y_test) = mnist.load_data()\n",
    "\n",
    "X_train = X_train.reshape(60000, 784)[:50000,:]\n",
    "X_test = X_test.reshape(10000, 784)\n",
    "X_train = X_train.astype('float32')\n",
    "X_test = X_test.astype('float32')\n",
    "X_train /= 255\n",
    "X_test /= 255\n",
    "print(X_train.shape[0], 'train samples')\n",
    "print(X_test.shape[0], 'test samples')\n",
    "\n",
    "# convert class vectors to binary class matrices\n",
    "Y_train = np_utils.to_categorical(y_train[:50000], nb_classes)\n",
    "Y_test = np_utils.to_categorical(y_test, nb_classes)\n",
    "\n"
   ]
  },
  {
   "cell_type": "code",
   "execution_count": null,
   "metadata": {
    "collapsed": true
   },
   "outputs": [],
   "source": [
    "model = Sequential()\n",
    "model.add(Dense(30, input_shape=(784,)))\n",
    "model.add(Activation('sigmoid'))\n",
    "model.add(Dense(10))\n",
    "model.add(Activation('sigmoid'))\n",
    "\n",
    "model.summary()\n",
    "\n",
    "model.compile(loss='categorical_crossentropy',\n",
    "              optimizer=SGD(lr=1.0),\n",
    "              metrics=['accuracy'])\n",
    "\n",
    "history = model.fit(X_train, Y_train,\n",
    "                    batch_size=batch_size, nb_epoch=nb_epoch,\n",
    "                    verbose=2, validation_data=(X_test, Y_test))\n",
    "score = model.evaluate(X_test, Y_test, verbose=0)\n",
    "\n",
    "print('Test score:', score[0])\n",
    "print('Test accuracy:', score[1])"
   ]
  },
  {
   "cell_type": "code",
   "execution_count": 13,
   "metadata": {},
   "outputs": [
    {
     "name": "stdout",
     "output_type": "stream",
     "text": [
      "_________________________________________________________________\n",
      "Layer (type)                 Output Shape              Param #   \n",
      "=================================================================\n",
      "dense_13 (Dense)             (None, 784)               615440    \n",
      "_________________________________________________________________\n",
      "activation_11 (Activation)   (None, 784)               0         \n",
      "_________________________________________________________________\n",
      "dense_14 (Dense)             (None, 784)               615440    \n",
      "_________________________________________________________________\n",
      "activation_12 (Activation)   (None, 784)               0         \n",
      "_________________________________________________________________\n",
      "dense_15 (Dense)             (None, 10)                7850      \n",
      "_________________________________________________________________\n",
      "activation_13 (Activation)   (None, 10)                0         \n",
      "=================================================================\n",
      "Total params: 1,238,730\n",
      "Trainable params: 1,238,730\n",
      "Non-trainable params: 0\n",
      "_________________________________________________________________\n",
      "Train on 50000 samples, validate on 10000 samples\n",
      "Epoch 1/30\n"
     ]
    },
    {
     "name": "stderr",
     "output_type": "stream",
     "text": [
      "/home/diegoami/anaconda3/envs/dsretreat/lib/python3.6/site-packages/keras/models.py:844: UserWarning: The `nb_epoch` argument in `fit` has been renamed `epochs`.\n",
      "  warnings.warn('The `nb_epoch` argument in `fit` '\n"
     ]
    },
    {
     "name": "stdout",
     "output_type": "stream",
     "text": [
      "10s - loss: 1.2975 - acc: 0.4467 - val_loss: 0.2437 - val_acc: 0.9270\n",
      "Epoch 2/30\n",
      "10s - loss: 0.2021 - acc: 0.9376 - val_loss: 0.1417 - val_acc: 0.9526\n",
      "Epoch 3/30\n",
      "10s - loss: 0.1256 - acc: 0.9605 - val_loss: 0.1189 - val_acc: 0.9623\n",
      "Epoch 4/30\n",
      "10s - loss: 0.0890 - acc: 0.9721 - val_loss: 0.1154 - val_acc: 0.9664\n",
      "Epoch 5/30\n",
      "11s - loss: 0.0676 - acc: 0.9786 - val_loss: 0.0931 - val_acc: 0.9728\n",
      "Epoch 6/30\n",
      "11s - loss: 0.0511 - acc: 0.9832 - val_loss: 0.0869 - val_acc: 0.9734\n",
      "Epoch 7/30\n",
      "11s - loss: 0.0381 - acc: 0.9880 - val_loss: 0.0905 - val_acc: 0.9739\n",
      "Epoch 8/30\n",
      "11s - loss: 0.0331 - acc: 0.9887 - val_loss: 0.0844 - val_acc: 0.9767\n",
      "Epoch 9/30\n",
      "11s - loss: 0.0253 - acc: 0.9918 - val_loss: 0.0872 - val_acc: 0.9768\n",
      "Epoch 10/30\n",
      "11s - loss: 0.0168 - acc: 0.9946 - val_loss: 0.0772 - val_acc: 0.9802\n",
      "Epoch 11/30\n",
      "10s - loss: 0.0121 - acc: 0.9961 - val_loss: 0.0729 - val_acc: 0.9823\n",
      "Epoch 12/30\n",
      "10s - loss: 0.0111 - acc: 0.9962 - val_loss: 0.0945 - val_acc: 0.9786\n",
      "Epoch 13/30\n",
      "10s - loss: 0.0124 - acc: 0.9956 - val_loss: 0.0978 - val_acc: 0.9785\n",
      "Epoch 14/30\n",
      "10s - loss: 0.0076 - acc: 0.9976 - val_loss: 0.0820 - val_acc: 0.9816\n",
      "Epoch 15/30\n",
      "10s - loss: 0.0042 - acc: 0.9988 - val_loss: 0.0804 - val_acc: 0.9818\n",
      "Epoch 16/30\n",
      "10s - loss: 0.0023 - acc: 0.9994 - val_loss: 0.0878 - val_acc: 0.9823\n",
      "Epoch 17/30\n",
      "10s - loss: 0.0028 - acc: 0.9992 - val_loss: 0.0794 - val_acc: 0.9837\n",
      "Epoch 18/30\n",
      "10s - loss: 0.0015 - acc: 0.9996 - val_loss: 0.0828 - val_acc: 0.9838\n",
      "Epoch 19/30\n",
      "10s - loss: 5.0417e-04 - acc: 0.9999 - val_loss: 0.0795 - val_acc: 0.9840\n",
      "Epoch 20/30\n",
      "10s - loss: 2.3859e-04 - acc: 1.0000 - val_loss: 0.0802 - val_acc: 0.9842\n",
      "Epoch 21/30\n",
      "10s - loss: 1.9920e-04 - acc: 1.0000 - val_loss: 0.0806 - val_acc: 0.9840\n",
      "Epoch 22/30\n",
      "10s - loss: 1.6899e-04 - acc: 1.0000 - val_loss: 0.0811 - val_acc: 0.9844\n",
      "Epoch 23/30\n",
      "11s - loss: 1.5344e-04 - acc: 1.0000 - val_loss: 0.0814 - val_acc: 0.9841\n",
      "Epoch 24/30\n",
      "10s - loss: 1.3918e-04 - acc: 1.0000 - val_loss: 0.0815 - val_acc: 0.9842\n",
      "Epoch 25/30\n",
      "10s - loss: 1.2460e-04 - acc: 1.0000 - val_loss: 0.0819 - val_acc: 0.9841\n",
      "Epoch 26/30\n",
      "10s - loss: 1.1261e-04 - acc: 1.0000 - val_loss: 0.0825 - val_acc: 0.9840\n",
      "Epoch 27/30\n",
      "10s - loss: 1.0514e-04 - acc: 1.0000 - val_loss: 0.0828 - val_acc: 0.9839\n",
      "Epoch 28/30\n",
      "10s - loss: 9.8572e-05 - acc: 1.0000 - val_loss: 0.0830 - val_acc: 0.9839\n",
      "Epoch 29/30\n",
      "10s - loss: 9.3878e-05 - acc: 1.0000 - val_loss: 0.0832 - val_acc: 0.9840\n",
      "Epoch 30/30\n",
      "10s - loss: 8.9198e-05 - acc: 1.0000 - val_loss: 0.0833 - val_acc: 0.9839\n",
      "Test score: 0.083303090055\n",
      "Test accuracy: 0.9839\n"
     ]
    }
   ],
   "source": [
    "model2 = Sequential()\n",
    "model2.add(Dense(784, input_shape=(784,)))\n",
    "model2.add(Activation('sigmoid'))\n",
    "model2.add(Dense(784))\n",
    "model2.add(Activation('sigmoid'))\n",
    "model2.add(Dense(10))\n",
    "model2.add(Activation('sigmoid'))\n",
    "\n",
    "model2.summary()\n",
    "\n",
    "model2.compile(loss='categorical_crossentropy',\n",
    "              optimizer=SGD(lr=1.0),\n",
    "              metrics=['accuracy'])\n",
    "\n",
    "history = model2.fit(X_train, Y_train,\n",
    "                    batch_size=batch_size, nb_epoch=nb_epoch,\n",
    "                    verbose=2, validation_data=(X_test, Y_test))\n",
    "score = model2.evaluate(X_test, Y_test, verbose=0)\n",
    "\n",
    "print('Test score:', score[0])\n",
    "print('Test accuracy:', score[1])"
   ]
  },
  {
   "cell_type": "code",
   "execution_count": 5,
   "metadata": {
    "scrolled": true
   },
   "outputs": [
    {
     "data": {
      "image/png": "[encoded data removed]",
      "text/plain": [
       "<matplotlib.figure.Figure at 0x7f0940ec4748>"
      ]
     },
     "metadata": {},
     "output_type": "display_data"
    }
   ],
   "source": [
    "plot_logs(history)"
   ]
  },
  {
   "cell_type": "code",
   "execution_count": 8,
   "metadata": {
    "collapsed": true
   },
   "outputs": [],
   "source": [
    "## now with convolution layers"
   ]
  },
  {
   "cell_type": "code",
   "execution_count": 14,
   "metadata": {
    "scrolled": false
   },
   "outputs": [
    {
     "name": "stdout",
     "output_type": "stream",
     "text": [
      "X_train shape: (60000, 28, 28, 1)\n",
      "60000 train samples\n",
      "10000 test samples\n"
     ]
    },
    {
     "name": "stderr",
     "output_type": "stream",
     "text": [
      "/home/diegoami/anaconda3/envs/dsretreat/lib/python3.6/site-packages/ipykernel_launcher.py:45: UserWarning: Update your `Conv2D` call to the Keras 2 API: `Conv2D(32, (3, 3), input_shape=(28, 28, 1..., padding=\"valid\")`\n",
      "/home/diegoami/anaconda3/envs/dsretreat/lib/python3.6/site-packages/ipykernel_launcher.py:47: UserWarning: Update your `Conv2D` call to the Keras 2 API: `Conv2D(32, (3, 3))`\n",
      "/home/diegoami/anaconda3/envs/dsretreat/lib/python3.6/site-packages/keras/models.py:844: UserWarning: The `nb_epoch` argument in `fit` has been renamed `epochs`.\n",
      "  warnings.warn('The `nb_epoch` argument in `fit` '\n"
     ]
    },
    {
     "name": "stdout",
     "output_type": "stream",
     "text": [
      "Train on 60000 samples, validate on 10000 samples\n",
      "Epoch 1/12\n",
      "7s - loss: 1.5899 - acc: 0.4828 - val_loss: 0.4340 - val_acc: 0.8839\n",
      "Epoch 2/12\n",
      "7s - loss: 0.6076 - acc: 0.8149 - val_loss: 0.2748 - val_acc: 0.9126\n",
      "Epoch 3/12\n",
      "7s - loss: 0.4590 - acc: 0.8603 - val_loss: 0.2236 - val_acc: 0.9335\n",
      "Epoch 4/12\n",
      "7s - loss: 0.4005 - acc: 0.8786 - val_loss: 0.1917 - val_acc: 0.9417\n",
      "Epoch 5/12\n",
      "7s - loss: 0.3616 - acc: 0.8935 - val_loss: 0.1785 - val_acc: 0.9441\n",
      "Epoch 6/12\n",
      "6s - loss: 0.3399 - acc: 0.8988 - val_loss: 0.1643 - val_acc: 0.9500\n",
      "Epoch 7/12\n",
      "7s - loss: 0.3175 - acc: 0.9039 - val_loss: 0.1534 - val_acc: 0.9531\n",
      "Epoch 8/12\n",
      "7s - loss: 0.2995 - acc: 0.9103 - val_loss: 0.1484 - val_acc: 0.9560\n",
      "Epoch 9/12\n",
      "7s - loss: 0.2823 - acc: 0.9158 - val_loss: 0.1349 - val_acc: 0.9573\n",
      "Epoch 10/12\n",
      "7s - loss: 0.2733 - acc: 0.9181 - val_loss: 0.1281 - val_acc: 0.9588\n",
      "Epoch 11/12\n",
      "7s - loss: 0.2614 - acc: 0.9215 - val_loss: 0.1287 - val_acc: 0.9609\n",
      "Epoch 12/12\n",
      "7s - loss: 0.2550 - acc: 0.9246 - val_loss: 0.1200 - val_acc: 0.9637\n",
      "Test score: 0.12003352129\n",
      "Test accuracy: 0.9637\n"
     ]
    }
   ],
   "source": [
    "import numpy as np\n",
    "from keras.datasets import mnist\n",
    "\n",
    "from keras.layers import Convolution2D, MaxPooling2D\n",
    "from keras.layers import Dense, Dropout, Activation, Flatten\n",
    "\n",
    "np.random.seed(1337)  # for reproducibility\n",
    "batch_size = 128\n",
    "nb_classes = 10\n",
    "nb_epoch = 12\n",
    "\n",
    "# input image dimensions\n",
    "img_rows, img_cols = 28, 28\n",
    "# number of convolutional filters to use\n",
    "nb_filters = 32\n",
    "# size of pooling area for max pooling\n",
    "pool_size = (2, 2)\n",
    "# convolution kernel size\n",
    "kernel_size = (3, 3)\n",
    "\n",
    "# the data, shuffled and split between train and test sets\n",
    "(X_train, y_train), (X_test, y_test) = mnist.load_data()\n",
    "\n",
    "X_train = X_train.reshape(X_train.shape[0], img_rows, img_cols, 1)\n",
    "X_test = X_test.reshape(X_test.shape[0], img_rows, img_cols, 1)\n",
    "input_shape = (img_rows, img_cols, 1)\n",
    "\n",
    "X_train = X_train.astype('float32')\n",
    "X_test = X_test.astype('float32')\n",
    "X_train /= 255\n",
    "X_test /= 255\n",
    "print('X_train shape:', X_train.shape)\n",
    "print(X_train.shape[0], 'train samples')\n",
    "print(X_test.shape[0], 'test samples')\n",
    "\n",
    "# convert class vectors to binary class matrices\n",
    "Y_train = np_utils.to_categorical(y_train, nb_classes)\n",
    "Y_test = np_utils.to_categorical(y_test, nb_classes)\n",
    "\n",
    "\n",
    "model = Sequential()\n",
    "\n",
    "model.add(Convolution2D(nb_filters, kernel_size[0], kernel_size[1],\n",
    "                        border_mode='valid',\n",
    "                        input_shape=input_shape))\n",
    "model.add(Activation('relu'))\n",
    "model.add(Convolution2D(nb_filters, kernel_size[0], kernel_size[1]))\n",
    "model.add(Activation('relu'))\n",
    "model.add(MaxPooling2D(pool_size=pool_size))\n",
    "model.add(Dropout(0.25))\n",
    "\n",
    "model.add(Flatten())\n",
    "model.add(Dense(128))\n",
    "model.add(Activation('relu'))\n",
    "model.add(Dropout(0.5))\n",
    "model.add(Dense(nb_classes))\n",
    "model.add(Activation('sigmoid'))\n",
    "\n",
    "model.compile(loss='categorical_crossentropy',\n",
    "              optimizer='SGD',\n",
    "              metrics=['accuracy'])\n",
    "\n",
    "model.fit(X_train, Y_train, batch_size=batch_size, nb_epoch=nb_epoch,\n",
    "          verbose=2, validation_data=(X_test, Y_test))\n",
    "score = model.evaluate(X_test, Y_test, verbose=0)\n",
    "print('Test score:', score[0])\n",
    "print('Test accuracy:', score[1])"
   ]
  },
  {
   "cell_type": "code",
   "execution_count": null,
   "metadata": {},
   "outputs": [],
   "source": [
    "plot_logs(history)"
   ]
  },
  {
   "cell_type": "code",
   "execution_count": null,
   "metadata": {
    "collapsed": true
   },
   "outputs": [],
   "source": []
  }
 ],
 "metadata": {
  "kernelspec": {
   "display_name": "Python 3",
   "language": "python",
   "name": "python3"
  },
  "language_info": {
   "codemirror_mode": {
    "name": "ipython",
    "version": 3
   },
   "file_extension": ".py",
   "mimetype": "text/x-python",
   "name": "python",
   "nbconvert_exporter": "python",
   "pygments_lexer": "ipython3",
   "version": "3.6.2"
  }
 },
 "nbformat": 4,
 "nbformat_minor": 1
}
