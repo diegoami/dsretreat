{
 "cells": [
  {
   "cell_type": "code",
   "execution_count": 2,
   "metadata": {},
   "outputs": [
    {
     "name": "stdout",
     "output_type": "stream",
     "text": [
      "args is ('one', 'two')\n",
      "kwargs is {'x': 1, 'y': 2, 'z': 3}\n"
     ]
    }
   ],
   "source": [
    "def variable_args(*args, **kwargs):\n",
    "    print('args is', args)\n",
    "    print('kwargs is', kwargs)\n",
    "    \n",
    "variable_args('one', 'two', x=1, y=2, z=3)"
   ]
  },
  {
   "cell_type": "code",
   "execution_count": null,
   "metadata": {
    "collapsed": true
   },
   "outputs": [],
   "source": []
  },
  {
   "cell_type": "code",
   "execution_count": 3,
   "metadata": {
    "collapsed": true
   },
   "outputs": [],
   "source": [
    "from os import listdir\n"
   ]
  },
  {
   "cell_type": "code",
   "execution_count": 4,
   "metadata": {},
   "outputs": [
    {
     "data": {
      "text/plain": [
       "['helloworld.py',\n",
       " 'Running Code.ipynb',\n",
       " 'Some_Python_Stuff.ipynb',\n",
       " 'Notebook-1.ipynb',\n",
       " '.ipynb_checkpoints',\n",
       " '.idea']"
      ]
     },
     "execution_count": 4,
     "metadata": {},
     "output_type": "execute_result"
    }
   ],
   "source": [
    "listdir('.')"
   ]
  },
  {
   "cell_type": "code",
   "execution_count": 7,
   "metadata": {},
   "outputs": [
    {
     "name": "stdout",
     "output_type": "stream",
     "text": [
      "Overwriting demo.py\n"
     ]
    }
   ],
   "source": [
    "%%writefile demo.py\n",
    "def print_b():\n",
    "    \"Prints b.\"\n",
    "    print('b')\n",
    "\n",
    "def print_a():\n",
    "    \"Prints a.\"\n",
    "    print('a')\n",
    "\n",
    "\n",
    "c = 2\n",
    "d = 2"
   ]
  },
  {
   "cell_type": "code",
   "execution_count": 8,
   "metadata": {},
   "outputs": [],
   "source": [
    "import demo\n",
    "\n"
   ]
  },
  {
   "cell_type": "code",
   "execution_count": 9,
   "metadata": {},
   "outputs": [
    {
     "name": "stdout",
     "output_type": "stream",
     "text": [
      "a\n"
     ]
    }
   ],
   "source": [
    "demo.print_a()"
   ]
  },
  {
   "cell_type": "code",
   "execution_count": 10,
   "metadata": {},
   "outputs": [
    {
     "data": {
      "text/plain": [
       "<module 'demo' from '/home/diegoami/PycharmProjects/dsretreat/demo.py'>"
      ]
     },
     "execution_count": 10,
     "metadata": {},
     "output_type": "execute_result"
    }
   ],
   "source": [
    "demo\n"
   ]
  },
  {
   "cell_type": "code",
   "execution_count": 11,
   "metadata": {
    "collapsed": true
   },
   "outputs": [],
   "source": [
    "demo?"
   ]
  },
  {
   "cell_type": "code",
   "execution_count": 12,
   "metadata": {},
   "outputs": [
    {
     "name": "stdout",
     "output_type": "stream",
     "text": [
      "demo\t listdir\t variable_args\t \n"
     ]
    }
   ],
   "source": [
    "who"
   ]
  },
  {
   "cell_type": "code",
   "execution_count": 13,
   "metadata": {},
   "outputs": [
    {
     "name": "stdout",
     "output_type": "stream",
     "text": [
      "No variables match your requested type.\n"
     ]
    }
   ],
   "source": [
    "who demo"
   ]
  },
  {
   "cell_type": "code",
   "execution_count": 14,
   "metadata": {},
   "outputs": [
    {
     "name": "stdout",
     "output_type": "stream",
     "text": [
      "demo\t listdir\t variable_args\t \n"
     ]
    }
   ],
   "source": [
    "%who"
   ]
  },
  {
   "cell_type": "code",
   "execution_count": 15,
   "metadata": {
    "collapsed": true
   },
   "outputs": [],
   "source": [
    "demo?"
   ]
  },
  {
   "cell_type": "code",
   "execution_count": 16,
   "metadata": {
    "collapsed": true
   },
   "outputs": [],
   "source": [
    "listdir?\n"
   ]
  },
  {
   "cell_type": "code",
   "execution_count": 17,
   "metadata": {},
   "outputs": [
    {
     "data": {
      "text/plain": [
       "['__builtins__',\n",
       " '__cached__',\n",
       " '__doc__',\n",
       " '__file__',\n",
       " '__loader__',\n",
       " '__name__',\n",
       " '__package__',\n",
       " '__spec__',\n",
       " 'c',\n",
       " 'd',\n",
       " 'print_a',\n",
       " 'print_b']"
      ]
     },
     "execution_count": 17,
     "metadata": {},
     "output_type": "execute_result"
    }
   ],
   "source": [
    "dir(demo)"
   ]
  },
  {
   "cell_type": "code",
   "execution_count": 18,
   "metadata": {},
   "outputs": [
    {
     "name": "stdout",
     "output_type": "stream",
     "text": [
      "Variable        Type                          Data/Info\n",
      "-------------------------------------------------------\n",
      "demo            module                        <module 'demo' from '/hom<...>jects/dsretreat/demo.py'>\n",
      "listdir         builtin_function_or_method    <built-in function listdir>\n",
      "variable_args   function                      <function variable_args at 0x7f5484297268>\n"
     ]
    }
   ],
   "source": [
    "whos"
   ]
  },
  {
   "cell_type": "code",
   "execution_count": 19,
   "metadata": {
    "collapsed": true
   },
   "outputs": [],
   "source": [
    "import sys"
   ]
  },
  {
   "cell_type": "code",
   "execution_count": 20,
   "metadata": {},
   "outputs": [
    {
     "data": {
      "text/plain": [
       "['',\n",
       " '/home/diegoami/anaconda3/envs/dsretreat/lib/python36.zip',\n",
       " '/home/diegoami/anaconda3/envs/dsretreat/lib/python3.6',\n",
       " '/home/diegoami/anaconda3/envs/dsretreat/lib/python3.6/lib-dynload',\n",
       " '/home/diegoami/anaconda3/envs/dsretreat/lib/python3.6/site-packages',\n",
       " '/home/diegoami/anaconda3/envs/dsretreat/lib/python3.6/site-packages/Mako-1.0.6-py3.6.egg',\n",
       " '/home/diegoami/anaconda3/envs/dsretreat/lib/python3.6/site-packages/cycler-0.10.0-py3.6.egg',\n",
       " '/home/diegoami/anaconda3/envs/dsretreat/lib/python3.6/site-packages/setuptools-27.2.0-py3.6.egg',\n",
       " '/home/diegoami/anaconda3/envs/dsretreat/lib/python3.6/site-packages/IPython/extensions',\n",
       " '/home/diegoami/.ipython']"
      ]
     },
     "execution_count": 20,
     "metadata": {},
     "output_type": "execute_result"
    }
   ],
   "source": [
    "sys.path"
   ]
  },
  {
   "cell_type": "code",
   "execution_count": 21,
   "metadata": {
    "collapsed": true
   },
   "outputs": [],
   "source": [
    "import scipy"
   ]
  },
  {
   "cell_type": "code",
   "execution_count": 22,
   "metadata": {},
   "outputs": [
    {
     "data": {
      "text/plain": [
       "'/home/diegoami/anaconda3/envs/dsretreat/lib/python3.6/site-packages/scipy/__init__.py'"
      ]
     },
     "execution_count": 22,
     "metadata": {},
     "output_type": "execute_result"
    }
   ],
   "source": [
    "scipy.__file__"
   ]
  },
  {
   "cell_type": "code",
   "execution_count": null,
   "metadata": {
    "collapsed": true
   },
   "outputs": [],
   "source": [
    "# %load '/home/diegoami/anaconda3/envs/dsretreat/lib/python3.6/site-packages/scipy/__init__.py'\n",
    "\"\"\"\n",
    "SciPy: A scientific computing package for Python\n",
    "================================================\n",
    "\n",
    "Documentation is available in the docstrings and\n",
    "online at https://docs.scipy.org.\n",
    "\n",
    "Contents\n",
    "--------\n",
    "SciPy imports all the functions from the NumPy namespace, and in\n",
    "addition provides:\n",
    "\n",
    "Subpackages\n",
    "-----------\n",
    "Using any of these subpackages requires an explicit import.  For example,\n",
    "``import scipy.cluster``.\n",
    "\n",
    "::\n",
    "\n",
    " cluster                      --- Vector Quantization / Kmeans\n",
    " fftpack                      --- Discrete Fourier Transform algorithms\n",
    " integrate                    --- Integration routines\n",
    " interpolate                  --- Interpolation Tools\n",
    " io                           --- Data input and output\n",
    " linalg                       --- Linear algebra routines\n",
    " linalg.blas                  --- Wrappers to BLAS library\n",
    " linalg.lapack                --- Wrappers to LAPACK library\n",
    " misc                         --- Various utilities that don't have\n",
    "                                  another home.\n",
    " ndimage                      --- n-dimensional image package\n",
    " odr                          --- Orthogonal Distance Regression\n",
    " optimize                     --- Optimization Tools\n",
    " signal                       --- Signal Processing Tools\n",
    " sparse                       --- Sparse Matrices\n",
    " sparse.linalg                --- Sparse Linear Algebra\n",
    " sparse.linalg.dsolve         --- Linear Solvers\n",
    " sparse.linalg.dsolve.umfpack --- :Interface to the UMFPACK library:\n",
    "                                  Conjugate Gradient Method (LOBPCG)\n",
    " sparse.linalg.eigen          --- Sparse Eigenvalue Solvers\n",
    " sparse.linalg.eigen.lobpcg   --- Locally Optimal Block Preconditioned\n",
    "                                  Conjugate Gradient Method (LOBPCG)\n",
    " spatial                      --- Spatial data structures and algorithms\n",
    " special                      --- Special functions\n",
    " stats                        --- Statistical Functions\n",
    "\n",
    "Utility tools\n",
    "-------------\n",
    "::\n",
    "\n",
    " test              --- Run scipy unittests\n",
    " show_config       --- Show scipy build configuration\n",
    " show_numpy_config --- Show numpy build configuration\n",
    " __version__       --- Scipy version string\n",
    " __numpy_version__ --- Numpy version string\n",
    "\n",
    "\"\"\"\n",
    "from __future__ import division, print_function, absolute_import\n",
    "\n",
    "__all__ = ['test']\n",
    "\n",
    "from numpy import show_config as show_numpy_config\n",
    "if show_numpy_config is None:\n",
    "    raise ImportError(\"Cannot import scipy when running from numpy source directory.\")\n",
    "from numpy import __version__ as __numpy_version__\n",
    "\n",
    "# Import numpy symbols to scipy name space\n",
    "import numpy as _num\n",
    "linalg = None\n",
    "from numpy import *\n",
    "from numpy.random import rand, randn\n",
    "from numpy.fft import fft, ifft\n",
    "from numpy.lib.scimath import *\n",
    "\n",
    "__all__ += _num.__all__\n",
    "__all__ += ['randn', 'rand', 'fft', 'ifft']\n",
    "\n",
    "del _num\n",
    "# Remove the linalg imported from numpy so that the scipy.linalg package can be\n",
    "# imported.\n",
    "del linalg\n",
    "__all__.remove('linalg')\n",
    "\n",
    "# We first need to detect if we're being called as part of the scipy\n",
    "# setup procedure itself in a reliable manner.\n",
    "try:\n",
    "    __SCIPY_SETUP__\n",
    "except NameError:\n",
    "    __SCIPY_SETUP__ = False\n",
    "\n",
    "\n",
    "if __SCIPY_SETUP__:\n",
    "    import sys as _sys\n",
    "    _sys.stderr.write('Running from scipy source directory.\\n')\n",
    "    del _sys\n",
    "else:\n",
    "    try:\n",
    "        from scipy.__config__ import show as show_config\n",
    "    except ImportError:\n",
    "        msg = \"\"\"Error importing scipy: you cannot import scipy while\n",
    "        being in scipy source directory; please exit the scipy source\n",
    "        tree first, and relaunch your python intepreter.\"\"\"\n",
    "        raise ImportError(msg)\n",
    "\n",
    "    from scipy.version import version as __version__\n",
    "    from scipy._lib._version import NumpyVersion as _NumpyVersion\n",
    "    if _NumpyVersion(__numpy_version__) < '1.8.2':\n",
    "        import warnings\n",
    "        warnings.warn(\"Numpy 1.8.2 or above is recommended for this version of \"\n",
    "                      \"scipy (detected version %s)\" % __numpy_version__,\n",
    "                      UserWarning)\n",
    "\n",
    "    del _NumpyVersion\n",
    "\n",
    "    from scipy._lib._ccallback import LowLevelCallable\n",
    "\n",
    "    from numpy.testing import Tester\n",
    "\n",
    "    def test(*a, **kw):\n",
    "        # Nose never recurses into directories with underscores prefix, so we\n",
    "        # need to list those explicitly. Note that numpy.testing.Tester inserts\n",
    "        # the top-level package path determined from __file__ to argv unconditionally,\n",
    "        # so we only need to add the part that is not otherwise recursed into.\n",
    "        import os\n",
    "        underscore_modules = ['_lib', '_build_utils']\n",
    "        base_dir = os.path.abspath(os.path.dirname(__file__))\n",
    "        underscore_paths = [os.path.join(base_dir, name) for name in underscore_modules]\n",
    "        kw['extra_argv'] = list(kw.get('extra_argv', [])) + underscore_paths\n",
    "        return test._tester.test(*a, **kw)\n",
    "\n",
    "    test._tester = Tester()\n",
    "    test.__doc__ = test._tester.test.__doc__\n",
    "    test.__test__ = False  # Prevent nose from treating test() as a test\n"
   ]
  },
  {
   "cell_type": "code",
   "execution_count": 24,
   "metadata": {},
   "outputs": [
    {
     "data": {
      "text/plain": [
       "['test',\n",
       " 'add_newdocs',\n",
       " 'ModuleDeprecationWarning',\n",
       " 'VisibleDeprecationWarning',\n",
       " '__version__',\n",
       " 'pkgload',\n",
       " 'PackageLoader',\n",
       " 'show_config',\n",
       " 'char',\n",
       " 'rec',\n",
       " 'memmap',\n",
       " 'newaxis',\n",
       " 'ndarray',\n",
       " 'flatiter',\n",
       " 'nditer',\n",
       " 'nested_iters',\n",
       " 'ufunc',\n",
       " 'arange',\n",
       " 'array',\n",
       " 'zeros',\n",
       " 'count_nonzero',\n",
       " 'empty',\n",
       " 'broadcast',\n",
       " 'dtype',\n",
       " 'fromstring',\n",
       " 'fromfile',\n",
       " 'frombuffer',\n",
       " 'int_asbuffer',\n",
       " 'where',\n",
       " 'argwhere',\n",
       " 'copyto',\n",
       " 'concatenate',\n",
       " 'fastCopyAndTranspose',\n",
       " 'lexsort',\n",
       " 'set_numeric_ops',\n",
       " 'can_cast',\n",
       " 'promote_types',\n",
       " 'min_scalar_type',\n",
       " 'result_type',\n",
       " 'asarray',\n",
       " 'asanyarray',\n",
       " 'ascontiguousarray',\n",
       " 'asfortranarray',\n",
       " 'isfortran',\n",
       " 'empty_like',\n",
       " 'zeros_like',\n",
       " 'ones_like',\n",
       " 'correlate',\n",
       " 'convolve',\n",
       " 'inner',\n",
       " 'dot',\n",
       " 'outer',\n",
       " 'vdot',\n",
       " 'roll',\n",
       " 'rollaxis',\n",
       " 'moveaxis',\n",
       " 'cross',\n",
       " 'tensordot',\n",
       " 'array2string',\n",
       " 'get_printoptions',\n",
       " 'set_printoptions',\n",
       " 'array_repr',\n",
       " 'array_str',\n",
       " 'set_string_function',\n",
       " 'little_endian',\n",
       " 'require',\n",
       " 'fromiter',\n",
       " 'array_equal',\n",
       " 'array_equiv',\n",
       " 'indices',\n",
       " 'fromfunction',\n",
       " 'isclose',\n",
       " 'load',\n",
       " 'loads',\n",
       " 'isscalar',\n",
       " 'binary_repr',\n",
       " 'base_repr',\n",
       " 'ones',\n",
       " 'identity',\n",
       " 'allclose',\n",
       " 'compare_chararrays',\n",
       " 'putmask',\n",
       " 'seterr',\n",
       " 'geterr',\n",
       " 'setbufsize',\n",
       " 'getbufsize',\n",
       " 'seterrcall',\n",
       " 'geterrcall',\n",
       " 'errstate',\n",
       " 'flatnonzero',\n",
       " 'Inf',\n",
       " 'inf',\n",
       " 'infty',\n",
       " 'Infinity',\n",
       " 'nan',\n",
       " 'NaN',\n",
       " 'False_',\n",
       " 'True_',\n",
       " 'bitwise_not',\n",
       " 'CLIP',\n",
       " 'RAISE',\n",
       " 'WRAP',\n",
       " 'MAXDIMS',\n",
       " 'BUFSIZE',\n",
       " 'ALLOW_THREADS',\n",
       " 'ComplexWarning',\n",
       " 'full',\n",
       " 'full_like',\n",
       " 'matmul',\n",
       " 'shares_memory',\n",
       " 'may_share_memory',\n",
       " 'MAY_SHARE_BOUNDS',\n",
       " 'MAY_SHARE_EXACT',\n",
       " 'TooHardError',\n",
       " 'AxisError',\n",
       " 'alen',\n",
       " 'all',\n",
       " 'alltrue',\n",
       " 'amax',\n",
       " 'amin',\n",
       " 'any',\n",
       " 'argmax',\n",
       " 'argmin',\n",
       " 'argpartition',\n",
       " 'argsort',\n",
       " 'around',\n",
       " 'choose',\n",
       " 'clip',\n",
       " 'compress',\n",
       " 'cumprod',\n",
       " 'cumproduct',\n",
       " 'cumsum',\n",
       " 'diagonal',\n",
       " 'mean',\n",
       " 'ndim',\n",
       " 'nonzero',\n",
       " 'partition',\n",
       " 'prod',\n",
       " 'product',\n",
       " 'ptp',\n",
       " 'put',\n",
       " 'rank',\n",
       " 'ravel',\n",
       " 'repeat',\n",
       " 'reshape',\n",
       " 'resize',\n",
       " 'round_',\n",
       " 'searchsorted',\n",
       " 'shape',\n",
       " 'size',\n",
       " 'sometrue',\n",
       " 'sort',\n",
       " 'squeeze',\n",
       " 'std',\n",
       " 'sum',\n",
       " 'swapaxes',\n",
       " 'take',\n",
       " 'trace',\n",
       " 'transpose',\n",
       " 'var',\n",
       " 'frompyfunc',\n",
       " 'seterrobj',\n",
       " 'geterrobj',\n",
       " 'absolute',\n",
       " 'add',\n",
       " 'arccos',\n",
       " 'arccosh',\n",
       " 'arcsin',\n",
       " 'arcsinh',\n",
       " 'arctan',\n",
       " 'arctan2',\n",
       " 'arctanh',\n",
       " 'bitwise_and',\n",
       " 'bitwise_or',\n",
       " 'bitwise_xor',\n",
       " 'cbrt',\n",
       " 'ceil',\n",
       " 'conjugate',\n",
       " 'copysign',\n",
       " 'cos',\n",
       " 'cosh',\n",
       " 'deg2rad',\n",
       " 'degrees',\n",
       " 'divmod',\n",
       " 'equal',\n",
       " 'exp',\n",
       " 'exp2',\n",
       " 'expm1',\n",
       " 'fabs',\n",
       " 'float_power',\n",
       " 'floor',\n",
       " 'floor_divide',\n",
       " 'fmax',\n",
       " 'fmin',\n",
       " 'fmod',\n",
       " 'frexp',\n",
       " 'greater',\n",
       " 'greater_equal',\n",
       " 'heaviside',\n",
       " 'hypot',\n",
       " 'invert',\n",
       " 'isfinite',\n",
       " 'isinf',\n",
       " 'isnan',\n",
       " 'isnat',\n",
       " 'ldexp',\n",
       " 'left_shift',\n",
       " 'less',\n",
       " 'less_equal',\n",
       " 'log',\n",
       " 'log10',\n",
       " 'log1p',\n",
       " 'log2',\n",
       " 'logaddexp',\n",
       " 'logaddexp2',\n",
       " 'logical_and',\n",
       " 'logical_not',\n",
       " 'logical_or',\n",
       " 'logical_xor',\n",
       " 'maximum',\n",
       " 'minimum',\n",
       " 'modf',\n",
       " 'multiply',\n",
       " 'negative',\n",
       " 'nextafter',\n",
       " 'not_equal',\n",
       " 'positive',\n",
       " 'power',\n",
       " 'rad2deg',\n",
       " 'radians',\n",
       " 'reciprocal',\n",
       " 'remainder',\n",
       " 'right_shift',\n",
       " 'rint',\n",
       " 'sign',\n",
       " 'signbit',\n",
       " 'sin',\n",
       " 'sinh',\n",
       " 'spacing',\n",
       " 'sqrt',\n",
       " 'square',\n",
       " 'subtract',\n",
       " 'tan',\n",
       " 'tanh',\n",
       " 'true_divide',\n",
       " 'trunc',\n",
       " 'pi',\n",
       " 'e',\n",
       " 'euler_gamma',\n",
       " 'ERR_IGNORE',\n",
       " 'ERR_WARN',\n",
       " 'ERR_CALL',\n",
       " 'ERR_RAISE',\n",
       " 'ERR_PRINT',\n",
       " 'ERR_LOG',\n",
       " 'ERR_DEFAULT',\n",
       " 'SHIFT_DIVIDEBYZERO',\n",
       " 'SHIFT_OVERFLOW',\n",
       " 'SHIFT_UNDERFLOW',\n",
       " 'SHIFT_INVALID',\n",
       " 'FPE_DIVIDEBYZERO',\n",
       " 'FPE_OVERFLOW',\n",
       " 'FPE_UNDERFLOW',\n",
       " 'FPE_INVALID',\n",
       " 'FLOATING_POINT_SUPPORT',\n",
       " 'UFUNC_PYVALS_NAME',\n",
       " 'UFUNC_BUFSIZE_DEFAULT',\n",
       " 'PINF',\n",
       " 'NINF',\n",
       " 'PZERO',\n",
       " 'NZERO',\n",
       " 'NAN',\n",
       " 'divide',\n",
       " 'conj',\n",
       " 'mod',\n",
       " 'sctypeDict',\n",
       " 'sctypeNA',\n",
       " 'typeDict',\n",
       " 'typeNA',\n",
       " 'sctypes',\n",
       " 'ScalarType',\n",
       " 'obj2sctype',\n",
       " 'cast',\n",
       " 'nbytes',\n",
       " 'sctype2char',\n",
       " 'maximum_sctype',\n",
       " 'issctype',\n",
       " 'typecodes',\n",
       " 'find_common_type',\n",
       " 'issubdtype',\n",
       " 'datetime_data',\n",
       " 'datetime_as_string',\n",
       " 'busday_offset',\n",
       " 'busday_count',\n",
       " 'is_busday',\n",
       " 'busdaycalendar',\n",
       " 'byte',\n",
       " 'ubyte',\n",
       " 'short',\n",
       " 'ushort',\n",
       " 'uint',\n",
       " 'intp',\n",
       " 'uintp',\n",
       " 'long',\n",
       " 'longlong',\n",
       " 'ulonglong',\n",
       " 'half',\n",
       " 'double',\n",
       " 'longdouble',\n",
       " 'cfloat',\n",
       " 'cdouble',\n",
       " 'clongdouble',\n",
       " 'unicode',\n",
       " 'void',\n",
       " 'generic',\n",
       " 'number',\n",
       " 'integer',\n",
       " 'inexact',\n",
       " 'signedinteger',\n",
       " 'unsignedinteger',\n",
       " 'floating',\n",
       " 'complexfloating',\n",
       " 'flexible',\n",
       " 'character',\n",
       " 'bool8',\n",
       " 'float16',\n",
       " 'float32',\n",
       " 'float64',\n",
       " 'float128',\n",
       " 'complex64',\n",
       " 'complex128',\n",
       " 'complex256',\n",
       " 'object0',\n",
       " 'bytes0',\n",
       " 'str0',\n",
       " 'void0',\n",
       " 'datetime64',\n",
       " 'timedelta64',\n",
       " 'int64',\n",
       " 'uint64',\n",
       " 'int32',\n",
       " 'uint32',\n",
       " 'int16',\n",
       " 'uint16',\n",
       " 'int8',\n",
       " 'uint8',\n",
       " 'complex_',\n",
       " 'int0',\n",
       " 'uint0',\n",
       " 'single',\n",
       " 'csingle',\n",
       " 'singlecomplex',\n",
       " 'float_',\n",
       " 'intc',\n",
       " 'uintc',\n",
       " 'int_',\n",
       " 'longfloat',\n",
       " 'clongfloat',\n",
       " 'longcomplex',\n",
       " 'bool_',\n",
       " 'unicode_',\n",
       " 'object_',\n",
       " 'bytes_',\n",
       " 'str_',\n",
       " 'string_',\n",
       " 'alen',\n",
       " 'all',\n",
       " 'alltrue',\n",
       " 'amax',\n",
       " 'amin',\n",
       " 'any',\n",
       " 'argmax',\n",
       " 'argmin',\n",
       " 'argpartition',\n",
       " 'argsort',\n",
       " 'around',\n",
       " 'choose',\n",
       " 'clip',\n",
       " 'compress',\n",
       " 'cumprod',\n",
       " 'cumproduct',\n",
       " 'cumsum',\n",
       " 'diagonal',\n",
       " 'mean',\n",
       " 'ndim',\n",
       " 'nonzero',\n",
       " 'partition',\n",
       " 'prod',\n",
       " 'product',\n",
       " 'ptp',\n",
       " 'put',\n",
       " 'rank',\n",
       " 'ravel',\n",
       " 'repeat',\n",
       " 'reshape',\n",
       " 'resize',\n",
       " 'round_',\n",
       " 'searchsorted',\n",
       " 'shape',\n",
       " 'size',\n",
       " 'sometrue',\n",
       " 'sort',\n",
       " 'squeeze',\n",
       " 'std',\n",
       " 'sum',\n",
       " 'swapaxes',\n",
       " 'take',\n",
       " 'trace',\n",
       " 'transpose',\n",
       " 'var',\n",
       " 'record',\n",
       " 'recarray',\n",
       " 'format_parser',\n",
       " 'chararray',\n",
       " 'logspace',\n",
       " 'linspace',\n",
       " 'geomspace',\n",
       " 'MachAr',\n",
       " 'finfo',\n",
       " 'iinfo',\n",
       " 'atleast_1d',\n",
       " 'atleast_2d',\n",
       " 'atleast_3d',\n",
       " 'block',\n",
       " 'hstack',\n",
       " 'stack',\n",
       " 'vstack',\n",
       " 'einsum',\n",
       " 'einsum_path',\n",
       " 'matrix',\n",
       " 'bmat',\n",
       " 'mat',\n",
       " 'asmatrix',\n",
       " 'emath',\n",
       " 'math',\n",
       " 'tracemalloc_domain',\n",
       " 'iscomplexobj',\n",
       " 'isrealobj',\n",
       " 'imag',\n",
       " 'iscomplex',\n",
       " 'isreal',\n",
       " 'nan_to_num',\n",
       " 'real',\n",
       " 'real_if_close',\n",
       " 'typename',\n",
       " 'asfarray',\n",
       " 'mintypecode',\n",
       " 'asscalar',\n",
       " 'common_type',\n",
       " 'ravel_multi_index',\n",
       " 'unravel_index',\n",
       " 'mgrid',\n",
       " 'ogrid',\n",
       " 'r_',\n",
       " 'c_',\n",
       " 's_',\n",
       " 'index_exp',\n",
       " 'ix_',\n",
       " 'ndenumerate',\n",
       " 'ndindex',\n",
       " 'fill_diagonal',\n",
       " 'diag_indices',\n",
       " 'diag_indices_from',\n",
       " 'select',\n",
       " 'piecewise',\n",
       " 'trim_zeros',\n",
       " 'copy',\n",
       " 'iterable',\n",
       " 'percentile',\n",
       " 'diff',\n",
       " 'gradient',\n",
       " 'angle',\n",
       " 'unwrap',\n",
       " 'sort_complex',\n",
       " 'disp',\n",
       " 'flip',\n",
       " 'rot90',\n",
       " 'extract',\n",
       " 'place',\n",
       " 'vectorize',\n",
       " 'asarray_chkfinite',\n",
       " 'average',\n",
       " 'histogram',\n",
       " 'histogramdd',\n",
       " 'bincount',\n",
       " 'digitize',\n",
       " 'cov',\n",
       " 'corrcoef',\n",
       " 'msort',\n",
       " 'median',\n",
       " 'sinc',\n",
       " 'hamming',\n",
       " 'hanning',\n",
       " 'bartlett',\n",
       " 'blackman',\n",
       " 'kaiser',\n",
       " 'trapz',\n",
       " 'i0',\n",
       " 'add_newdoc',\n",
       " 'add_docstring',\n",
       " 'meshgrid',\n",
       " 'delete',\n",
       " 'insert',\n",
       " 'append',\n",
       " 'interp',\n",
       " 'add_newdoc_ufunc',\n",
       " 'column_stack',\n",
       " 'row_stack',\n",
       " 'dstack',\n",
       " 'array_split',\n",
       " 'split',\n",
       " 'hsplit',\n",
       " 'vsplit',\n",
       " 'dsplit',\n",
       " 'apply_over_axes',\n",
       " 'expand_dims',\n",
       " 'apply_along_axis',\n",
       " 'kron',\n",
       " 'tile',\n",
       " 'get_array_wrap',\n",
       " 'broadcast_to',\n",
       " 'broadcast_arrays',\n",
       " 'diag',\n",
       " 'diagflat',\n",
       " 'eye',\n",
       " 'fliplr',\n",
       " 'flipud',\n",
       " 'tri',\n",
       " 'triu',\n",
       " 'tril',\n",
       " 'vander',\n",
       " 'histogram2d',\n",
       " 'mask_indices',\n",
       " 'tril_indices',\n",
       " 'tril_indices_from',\n",
       " 'triu_indices',\n",
       " 'triu_indices_from',\n",
       " 'fix',\n",
       " 'isneginf',\n",
       " 'isposinf',\n",
       " 'pad',\n",
       " 'poly',\n",
       " 'roots',\n",
       " 'polyint',\n",
       " 'polyder',\n",
       " 'polyadd',\n",
       " 'polysub',\n",
       " 'polymul',\n",
       " 'polydiv',\n",
       " 'polyval',\n",
       " 'poly1d',\n",
       " 'polyfit',\n",
       " 'RankWarning',\n",
       " 'issubclass_',\n",
       " 'issubsctype',\n",
       " 'issubdtype',\n",
       " 'deprecate',\n",
       " 'deprecate_with_doc',\n",
       " 'get_include',\n",
       " 'info',\n",
       " 'source',\n",
       " 'who',\n",
       " 'lookfor',\n",
       " 'byte_bounds',\n",
       " 'safe_eval',\n",
       " 'ediff1d',\n",
       " 'intersect1d',\n",
       " 'setxor1d',\n",
       " 'union1d',\n",
       " 'setdiff1d',\n",
       " 'unique',\n",
       " 'in1d',\n",
       " 'isin',\n",
       " 'savetxt',\n",
       " 'loadtxt',\n",
       " 'genfromtxt',\n",
       " 'ndfromtxt',\n",
       " 'mafromtxt',\n",
       " 'recfromtxt',\n",
       " 'recfromcsv',\n",
       " 'load',\n",
       " 'loads',\n",
       " 'save',\n",
       " 'savez',\n",
       " 'savez_compressed',\n",
       " 'packbits',\n",
       " 'unpackbits',\n",
       " 'fromregex',\n",
       " 'DataSource',\n",
       " 'fv',\n",
       " 'pmt',\n",
       " 'nper',\n",
       " 'ipmt',\n",
       " 'ppmt',\n",
       " 'pv',\n",
       " 'rate',\n",
       " 'irr',\n",
       " 'npv',\n",
       " 'mirr',\n",
       " 'nansum',\n",
       " 'nanmax',\n",
       " 'nanmin',\n",
       " 'nanargmax',\n",
       " 'nanargmin',\n",
       " 'nanmean',\n",
       " 'nanmedian',\n",
       " 'nanpercentile',\n",
       " 'nanvar',\n",
       " 'nanstd',\n",
       " 'nanprod',\n",
       " 'nancumsum',\n",
       " 'nancumprod',\n",
       " 'fft',\n",
       " 'random',\n",
       " 'ctypeslib',\n",
       " 'ma',\n",
       " 'randn',\n",
       " 'rand',\n",
       " 'fft',\n",
       " 'ifft']"
      ]
     },
     "execution_count": 24,
     "metadata": {},
     "output_type": "execute_result"
    }
   ],
   "source": [
    "scipy.__all__"
   ]
  },
  {
   "cell_type": "code",
   "execution_count": 25,
   "metadata": {
    "collapsed": true
   },
   "outputs": [],
   "source": [
    " import scipy.ndimage.morphology"
   ]
  },
  {
   "cell_type": "code",
   "execution_count": 26,
   "metadata": {},
   "outputs": [
    {
     "name": "stdout",
     "output_type": "stream",
     "text": [
      "Object `morphology.binary_dilation` not found.\n"
     ]
    }
   ],
   "source": [
    "morphology.binary_dilation?"
   ]
  },
  {
   "cell_type": "code",
   "execution_count": 27,
   "metadata": {},
   "outputs": [
    {
     "name": "stdout",
     "output_type": "stream",
     "text": [
      "Object `morphology` not found.\n"
     ]
    }
   ],
   "source": [
    "morphology?"
   ]
  },
  {
   "cell_type": "code",
   "execution_count": 28,
   "metadata": {
    "collapsed": true
   },
   "outputs": [],
   "source": [
    "from scipy.ndimage import morphology"
   ]
  },
  {
   "cell_type": "code",
   "execution_count": 29,
   "metadata": {
    "collapsed": true
   },
   "outputs": [],
   "source": [
    "morphology??"
   ]
  },
  {
   "cell_type": "code",
   "execution_count": 31,
   "metadata": {},
   "outputs": [],
   "source": [
    "import os\n"
   ]
  },
  {
   "cell_type": "code",
   "execution_count": 32,
   "metadata": {},
   "outputs": [
    {
     "data": {
      "text/plain": [
       "'/home/diegoami/PycharmProjects/dsretreat'"
      ]
     },
     "execution_count": 32,
     "metadata": {},
     "output_type": "execute_result"
    }
   ],
   "source": [
    "os.getcwd()"
   ]
  },
  {
   "cell_type": "code",
   "execution_count": 35,
   "metadata": {},
   "outputs": [
    {
     "name": "stdout",
     "output_type": "stream",
     "text": [
      "/home/diegoami/PycharmProjects/dsretreat/helloworld.py\n",
      "/home/diegoami/PycharmProjects/dsretreat/Running Code.ipynb\n",
      "/home/diegoami/PycharmProjects/dsretreat/Some_Python_Stuff.ipynb\n",
      "/home/diegoami/PycharmProjects/dsretreat/demo.py\n",
      "/home/diegoami/PycharmProjects/dsretreat/Notebook-1.ipynb\n",
      "/home/diegoami/PycharmProjects/dsretreat/demo.cpython-36.pyc\n",
      "/home/diegoami/PycharmProjects/dsretreat/Notebook-1-checkpoint.ipynb\n",
      "/home/diegoami/PycharmProjects/dsretreat/Running Code-checkpoint.ipynb\n",
      "/home/diegoami/PycharmProjects/dsretreat/Some_Python_Stuff-checkpoint.ipynb\n",
      "/home/diegoami/PycharmProjects/dsretreat/misc.xml\n",
      "/home/diegoami/PycharmProjects/dsretreat/markdown-navigator.xml\n",
      "/home/diegoami/PycharmProjects/dsretreat/dsretreat.iml\n",
      "/home/diegoami/PycharmProjects/dsretreat/modules.xml\n",
      "/home/diegoami/PycharmProjects/dsretreat/workspace.xml\n",
      "/home/diegoami/PycharmProjects/dsretreat/profiles_settings.xml\n",
      "/home/diegoami/PycharmProjects/dsretreat/Project_Default.xml\n"
     ]
    }
   ],
   "source": [
    "import os.path\n",
    "for dirpath, dirnames, filenames in os.walk(os.curdir):\n",
    "    for fp in filenames:\n",
    "        print(os.path.abspath(fp))"
   ]
  },
  {
   "cell_type": "code",
   "execution_count": 37,
   "metadata": {},
   "outputs": [
    {
     "name": "stdout",
     "output_type": "stream",
     "text": [
      "[['/home/diegoami/anaconda3/envs/dsretreat/lib/python3.6/site.py']]\n"
     ]
    }
   ],
   "source": [
    "import os\n",
    "import sys\n",
    "import glob\n",
    "\n",
    "def find_module(module):\n",
    "    result = []\n",
    "    # Loop over the list of paths in sys.path\n",
    "    for subdir in sys.path:\n",
    "        # Join the subdir path with the module we're searching for\n",
    "        pth = os.path.join(subdir, module)\n",
    "        # Use glob to test if the pth is exists\n",
    "        res = glob.glob(pth)\n",
    "        # glob returns a list, if it is not empty, the pth exists\n",
    "        if len(res) > 0:\n",
    "            result.append(res)\n",
    "    return result\n",
    "\n",
    "\n",
    "if __name__ == '__main__':\n",
    "    result = find_module('site.py')\n",
    "    print(result)\n",
    "    "
   ]
  },
  {
   "cell_type": "code",
   "execution_count": 38,
   "metadata": {},
   "outputs": [
    {
     "name": "stderr",
     "output_type": "stream",
     "text": [
      "ERROR:root:File `'site.py'` not found.\n"
     ]
    }
   ],
   "source": [
    "%run site.py"
   ]
  },
  {
   "cell_type": "code",
   "execution_count": 41,
   "metadata": {},
   "outputs": [
    {
     "name": "stdout",
     "output_type": "stream",
     "text": [
      "\n",
      "/home/diegoami/anaconda3/envs/dsretreat/lib/python36.zip\n",
      "/home/diegoami/anaconda3/envs/dsretreat/lib/python3.6\n",
      "/home/diegoami/anaconda3/envs/dsretreat/lib/python3.6/lib-dynload\n",
      "/home/diegoami/anaconda3/envs/dsretreat/lib/python3.6/site-packages\n",
      "/home/diegoami/anaconda3/envs/dsretreat/lib/python3.6/site-packages/Mako-1.0.6-py3.6.egg\n",
      "/home/diegoami/anaconda3/envs/dsretreat/lib/python3.6/site-packages/cycler-0.10.0-py3.6.egg\n",
      "/home/diegoami/anaconda3/envs/dsretreat/lib/python3.6/site-packages/setuptools-27.2.0-py3.6.egg\n",
      "/home/diegoami/anaconda3/envs/dsretreat/lib/python3.6/site-packages/IPython/extensions\n",
      "/home/diegoami/.ipython\n"
     ]
    }
   ],
   "source": [
    "for subdir in sys.path:\n",
    "    print(subdir)"
   ]
  },
  {
   "cell_type": "code",
   "execution_count": null,
   "metadata": {
    "collapsed": true
   },
   "outputs": [],
   "source": []
  }
 ],
 "metadata": {
  "kernelspec": {
   "display_name": "Python 3",
   "language": "python",
   "name": "python3"
  },
  "language_info": {
   "codemirror_mode": {
    "name": "ipython",
    "version": 3
   },
   "file_extension": ".py",
   "mimetype": "text/x-python",
   "name": "python",
   "nbconvert_exporter": "python",
   "pygments_lexer": "ipython3",
   "version": "3.6.2"
  }
 },
 "nbformat": 4,
 "nbformat_minor": 2
}
