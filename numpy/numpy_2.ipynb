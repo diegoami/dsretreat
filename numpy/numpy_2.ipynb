{
 "cells": [
  {
   "cell_type": "code",
   "execution_count": 1,
   "metadata": {
    "collapsed": true
   },
   "outputs": [
    {
     "name": "stdout",
     "output_type": "stream",
     "text": [
      "True\n"
     ]
    }
   ],
   "source": [
    "from numpy import *\n",
    "a = array([1,2,3])\n",
    "print(all(a > 0)) # equivalent to (a > 0).all()\n"
   ]
  },
  {
   "cell_type": "code",
   "execution_count": 2,
   "metadata": {},
   "outputs": [
    {
     "name": "stdout",
     "output_type": "stream",
     "text": [
      "True\n"
     ]
    }
   ],
   "source": [
    "a = array([1,2,3])\n",
    "print((a >= 1).any()) \n"
   ]
  },
  {
   "cell_type": "code",
   "execution_count": 4,
   "metadata": {},
   "outputs": [
    {
     "name": "stdout",
     "output_type": "stream",
     "text": [
      "[10 20 30 40 50]\n[10 20 30 40 50 60]\n[[10 20 30]\n [40 50 60]\n [70 80 90]\n [15 15 15]]\n[[10 20 30 15]\n [40 50 60 15]\n [70 80 90 15]]\n"
     ]
    }
   ],
   "source": [
    "from numpy import *\n",
    "a = array([10,20,30,40])\n",
    "print(append(a,50))\n",
    "print(append(a,[50,60]))\n",
    "\n",
    "a = array([[10,20,30],[40,50,60],[70,80,90]])\n",
    "\n",
    "print(append(a,[[15,15,15]],axis=0))\n",
    "\n",
    "print(append(a,[[15],[15],[15]],axis=1))\n"
   ]
  },
  {
   "cell_type": "code",
   "execution_count": 5,
   "metadata": {},
   "outputs": [
    {
     "name": "stdout",
     "output_type": "stream",
     "text": [
      "[ 4.  5.  6.]\n[ 2.  5.  8.]\n"
     ]
    }
   ],
   "source": [
    "from numpy import *\n",
    "def myfunc(a): # function works on a 1d arrays, takes the average of the 1st an last element\n",
    "    return (a[0]+a[-1])/2\n",
    "\n",
    "b = array([[1,2,3],[4,5,6],[7,8,9]])\n",
    "print(apply_along_axis(myfunc,0,b)) # apply myfunc to each column (axis=0) of b\n",
    "\n",
    "print(apply_along_axis(myfunc,1,b)) # apply myfunc to each row (axis=1) of b\n"
   ]
  },
  {
   "cell_type": "code",
   "execution_count": 6,
   "metadata": {},
   "outputs": [
    {
     "name": "stdout",
     "output_type": "stream",
     "text": [
      "[[[ 0  1  2  3]\n  [ 4  5  6  7]\n  [ 8  9 10 11]]\n\n [[12 13 14 15]\n  [16 17 18 19]\n  [20 21 22 23]]]\n[[[ 60]\n  [ 92]\n  [124]]]\n"
     ]
    }
   ],
   "source": [
    "from numpy import *\n",
    "a = arange(24).reshape(2,3,4) # a has 3 axes: 0,1 and 2\n",
    "print(a)\n",
    "\n",
    "print(apply_over_axes(sum, a, [0,2])) # sum over all axes except axis=1, result has same shape as original\n"
   ]
  },
  {
   "cell_type": "code",
   "execution_count": 8,
   "metadata": {},
   "outputs": [
    {
     "name": "stdout",
     "output_type": "stream",
     "text": [
      "[[41 41 43]\n [43 37 46]]\n"
     ]
    },
    {
     "data": {
      "text/plain": [
       "(array([   5.,    5.,   16.,   17.,   50.,   37.,  101.,   65.,  148.,\n          86.,  176.,   72.,  108.,   31.,   45.,   11.,   17.,    3.,\n           5.,    2.]),\n array([ 36. ,  37.5,  39. ,  40.5,  42. ,  43.5,  45. ,  46.5,  48. ,\n         49.5,  51. ,  52.5,  54. ,  55.5,  57. ,  58.5,  60. ,  61.5,\n         63. ,  64.5,  66. ]),\n <a list of 20 Patch objects>)"
      ]
     },
     "execution_count": 8,
     "metadata": {},
     "output_type": "execute_result"
    },
    {
     "data": {
      "image/png": "[encoded data removed]",
      "text/plain": [
       "<matplotlib.figure.Figure at 0x7f07420f76a0>"
      ]
     },
     "metadata": {},
     "output_type": "display_data"
    }
   ],
   "source": [
    "%matplotlib inline\n",
    "from numpy import *\n",
    "from numpy.random import *\n",
    "print(binomial(n=100,p=0.5,size=(2,3))) # binomial distribution n trials, p= success probability\n",
    "from pylab import * # histogram plot example\n",
    "hist(binomial(100,0.5,(1000)), 20)"
   ]
  },
  {
   "cell_type": "code",
   "execution_count": 11,
   "metadata": {},
   "outputs": [
    {
     "name": "stdout",
     "output_type": "stream",
     "text": [
      "2\n(2, 2)\n4\n(1, 5)\n(2, 6)\n(3, 5)\n(4, 6)\n"
     ]
    },
    {
     "ename": "AttributeError",
     "evalue": "'numpy.broadcast' object has no attribute 'next'",
     "traceback": [
      "\u001b[0;31m---------------------------------------------------------------------------\u001b[0m",
      "\u001b[0;31mAttributeError\u001b[0m                            Traceback (most recent call last)",
      "\u001b[0;32m<ipython-input-11-40a9f902fec0>\u001b[0m in \u001b[0;36m<module>\u001b[0;34m()\u001b[0m\n\u001b[1;32m      9\u001b[0m \u001b[0;32mfor\u001b[0m \u001b[0mvalue\u001b[0m \u001b[0;32min\u001b[0m \u001b[0mc\u001b[0m\u001b[0;34m:\u001b[0m \u001b[0mprint\u001b[0m\u001b[0;34m(\u001b[0m\u001b[0mvalue\u001b[0m\u001b[0;34m)\u001b[0m\u001b[0;34m\u001b[0m\u001b[0m\n\u001b[1;32m     10\u001b[0m \u001b[0mc\u001b[0m\u001b[0;34m.\u001b[0m\u001b[0mreset\u001b[0m\u001b[0;34m(\u001b[0m\u001b[0;34m)\u001b[0m \u001b[0;31m# reset the iterator to the beginning\u001b[0m\u001b[0;34m\u001b[0m\u001b[0m\n\u001b[0;32m---> 11\u001b[0;31m \u001b[0mc\u001b[0m\u001b[0;34m.\u001b[0m\u001b[0mnext\u001b[0m\u001b[0;34m(\u001b[0m\u001b[0;34m)\u001b[0m\u001b[0;31m# next element\u001b[0m\u001b[0;34m\u001b[0m\u001b[0m\n\u001b[0m",
      "\u001b[0;31mAttributeError\u001b[0m: 'numpy.broadcast' object has no attribute 'next'"
     ],
     "output_type": "error"
    }
   ],
   "source": [
    "from numpy import *\n",
    "a = array([[1,2],[3,4]])\n",
    "b = array([5,6])\n",
    "c = broadcast(a,b)\n",
    "print(c.nd) # the number of dimensions in the broadcasted result\n",
    "\n",
    "print(c.shape) # the shape of the broadcasted result\n",
    "print(c.size) # total size of the broadcasted result\n",
    "for value in c: print(value)\n",
    "c.reset() # reset the iterator to the beginning\n",
    "c.next()# next element\n"
   ]
  },
  {
   "cell_type": "code",
   "execution_count": 13,
   "metadata": {},
   "outputs": [
    {
     "name": "stdout",
     "output_type": "stream",
     "text": [
      "[[5 6 7]\n [6 7 8]\n [7 8 9]]\n"
     ]
    }
   ],
   "source": [
    "import numpy as np\n",
    "x = np.array([[1], [2], [3]])\n",
    "y = np.array([4, 5, 6])\n",
    "print(x+y)"
   ]
  },
  {
   "cell_type": "code",
   "execution_count": 14,
   "metadata": {},
   "outputs": [
    {
     "name": "stdout",
     "output_type": "stream",
     "text": [
      "[[[0 0 0]\n  [1 1 1]]\n\n [[0 1 2]\n  [0 1 2]]]\n[[ 0  1  2]\n [10 11 12]]\n"
     ]
    },
    {
     "data": {
      "text/plain": [
       "array([[ 0,  1,  2],\n       [10, 11, 12]])"
      ]
     },
     "execution_count": 14,
     "metadata": {},
     "output_type": "execute_result"
    }
   ],
   "source": [
    "from numpy import *\n",
    "print(indices((2,3)))\n",
    "a = array([ [ 0, 1, 2, 3, 4],\n",
    "    [10,11,12,13,14],\n",
    "    [20,21,22,23,24],\n",
    "    [30,31,32,33,34] ])\n",
    "i,j = indices((2,3))\n",
    "print(a[i,j])\n",
    "array([[ 0, 1, 2],\n",
    "       [10, 11, 12]])"
   ]
  },
  {
   "cell_type": "code",
   "execution_count": 15,
   "metadata": {},
   "outputs": [
    {
     "name": "stdout",
     "output_type": "stream",
     "text": [
      "[10 50 20 30 50 40]\n[10 50 20 30 60 40]\n[[ 10  20  30]\n [100 100 100]\n [ 40  50  60]\n [100 100 100]\n [ 70  80  90]]\n[[100 100 100]\n [ 10  20  30]\n [200 200 200]\n [ 40  50  60]\n [ 70  80  90]]\n[[100  10 200  20  30]\n [100  40 200  50  60]\n [100  70 200  80  90]]\n"
     ]
    }
   ],
   "source": [
    "from numpy import *\n",
    "a = array([10,20,30,40])\n",
    "print(insert(a,[1,3],50)) # insert value 50 before elements [1] and [3]\n",
    "print(insert(a,[1,3],[50,60])) # insert value 50 before element [1] and value 60 before element [3]\n",
    "a = array([[10,20,30],[40,50,60],[70,80,90]])\n",
    "print(insert(a, [1,2], 100, axis=0)) # insert row with values 100 before row[1] and before row[2]\n",
    "print(insert(a, [0,1], [[100],[200]], axis=0))\n",
    "print(insert(a, [0,1], [100,200], axis=1))\n"
   ]
  },
  {
   "cell_type": "code",
   "execution_count": 17,
   "metadata": {},
   "outputs": [
    {
     "name": "stdout",
     "output_type": "stream",
     "text": [
      "[[10 11 12]\n [13 14 15]\n [16 17 18]]\n(0, 0) 10\n(0, 1) 11\n(0, 2) 12\n(1, 0) 13\n(1, 1) 14\n(1, 2) 15\n(2, 0) 16\n(2, 1) 17\n(2, 2) 18\n"
     ]
    }
   ],
   "source": [
    "from numpy import *\n",
    "a = arange(9).reshape(3,3) + 10\n",
    "print(a)\n",
    "b = ndenumerate(a)\n",
    "for position,value in b: print(position,value) # position is the N-dimensional index\n"
   ]
  },
  {
   "cell_type": "code",
   "execution_count": null,
   "metadata": {},
   "outputs": [],
   "source": []
  }
 ],
 "metadata": {
  "kernelspec": {
   "display_name": "Python 2",
   "language": "python",
   "name": "python2"
  },
  "language_info": {
   "codemirror_mode": {
    "name": "ipython",
    "version": 2
   },
   "file_extension": ".py",
   "mimetype": "text/x-python",
   "name": "python",
   "nbconvert_exporter": "python",
   "pygments_lexer": "ipython2",
   "version": "2.7.6"
  }
 },
 "nbformat": 4,
 "nbformat_minor": 0
}
