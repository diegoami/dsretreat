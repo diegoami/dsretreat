{
 "cells": [
  {
   "cell_type": "code",
   "execution_count": 1,
   "metadata": {
    "collapsed": true
   },
   "outputs": [
    {
     "name": "stdout",
     "output_type": "stream",
     "text": [
      "True\n"
     ]
    }
   ],
   "source": [
    "from numpy import *\n",
    "a = array([1,2,3])\n",
    "print(all(a > 0)) # equivalent to (a > 0).all()\n"
   ]
  },
  {
   "cell_type": "code",
   "execution_count": 2,
   "metadata": {},
   "outputs": [
    {
     "name": "stdout",
     "output_type": "stream",
     "text": [
      "True\n"
     ]
    }
   ],
   "source": [
    "a = array([1,2,3])\n",
    "print((a >= 1).any()) \n"
   ]
  },
  {
   "cell_type": "code",
   "execution_count": 4,
   "metadata": {},
   "outputs": [
    {
     "name": "stdout",
     "output_type": "stream",
     "text": [
      "[10 20 30 40 50]\n[10 20 30 40 50 60]\n[[10 20 30]\n [40 50 60]\n [70 80 90]\n [15 15 15]]\n[[10 20 30 15]\n [40 50 60 15]\n [70 80 90 15]]\n"
     ]
    }
   ],
   "source": [
    "from numpy import *\n",
    "a = array([10,20,30,40])\n",
    "print(append(a,50))\n",
    "print(append(a,[50,60]))\n",
    "\n",
    "a = array([[10,20,30],[40,50,60],[70,80,90]])\n",
    "\n",
    "print(append(a,[[15,15,15]],axis=0))\n",
    "\n",
    "print(append(a,[[15],[15],[15]],axis=1))\n"
   ]
  },
  {
   "cell_type": "code",
   "execution_count": 5,
   "metadata": {},
   "outputs": [
    {
     "name": "stdout",
     "output_type": "stream",
     "text": [
      "[ 4.  5.  6.]\n[ 2.  5.  8.]\n"
     ]
    }
   ],
   "source": [
    "from numpy import *\n",
    "def myfunc(a): # function works on a 1d arrays, takes the average of the 1st an last element\n",
    "    return (a[0]+a[-1])/2\n",
    "\n",
    "b = array([[1,2,3],[4,5,6],[7,8,9]])\n",
    "print(apply_along_axis(myfunc,0,b)) # apply myfunc to each column (axis=0) of b\n",
    "\n",
    "print(apply_along_axis(myfunc,1,b)) # apply myfunc to each row (axis=1) of b\n"
   ]
  },
  {
   "cell_type": "code",
   "execution_count": null,
   "metadata": {},
   "outputs": [],
   "source": []
  }
 ],
 "metadata": {
  "kernelspec": {
   "display_name": "Python 2",
   "language": "python",
   "name": "python2"
  },
  "language_info": {
   "codemirror_mode": {
    "name": "ipython",
    "version": 2
   },
   "file_extension": ".py",
   "mimetype": "text/x-python",
   "name": "python",
   "nbconvert_exporter": "python",
   "pygments_lexer": "ipython2",
   "version": "2.7.6"
  }
 },
 "nbformat": 4,
 "nbformat_minor": 0
}
