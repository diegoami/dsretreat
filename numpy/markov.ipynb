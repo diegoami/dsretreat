{
 "cells": [
  {
   "cell_type": "code",
   "execution_count": 54,
   "metadata": {
    "collapsed": true
   },
   "outputs": [
    {
     "name": "stdout",
     "output_type": "stream",
     "text": [
      "[[ 0.19181913  0.3375524   0.13181313  0.15300122  0.18581413]\n [ 0.76679546  0.12735357  0.06109662  0.02471261  0.02004174]\n [ 0.373423    0.24146287  0.2417102   0.0689375   0.07446642]\n [ 0.00603921  0.2792419   0.24517447  0.30445053  0.16509388]\n [ 0.0310008   0.17215383  0.32607752  0.21885447  0.25191337]]\n[ 1.  1.  1.  1.  1.]\n"
     ]
    }
   ],
   "source": [
    "import numpy as np\n",
    "from random import random\n",
    "P = np.random.rand(5,5)\n",
    "row_sums = P.sum(axis=1)\n",
    "P = P / row_sums[:, np.newaxis]\n",
    "print(P)\n",
    "print(np.sum(P,axis=1))\n",
    "    \n",
    "    "
   ]
  },
  {
   "cell_type": "code",
   "execution_count": 55,
   "metadata": {},
   "outputs": [
    {
     "name": "stdout",
     "output_type": "stream",
     "text": [
      "[[ 0.33286091]\n [ 0.1872566 ]\n [ 0.01548351]\n [ 0.09524914]\n [ 0.36914984]]\n"
     ]
    }
   ],
   "source": [
    "pc = np.random.rand(5,1)\n",
    "sp = pc.sum(axis=0)\n",
    "pc = pc / sp\n",
    "print(pc)"
   ]
  },
  {
   "cell_type": "code",
   "execution_count": 56,
   "metadata": {
    "collapsed": true
   },
   "outputs": [
    {
     "name": "stdout",
     "output_type": "stream",
     "text": [
      "[[ 0.33286091]\n [ 0.1872566 ]\n [ 0.01548351]\n [ 0.09524914]\n [ 0.36914984]] [[ 0.22523767]\n [ 0.2300926 ]\n [ 0.20278283]\n [ 0.16641186]\n [ 0.17547504]] [[ 0.30180749]\n [ 0.23097502]\n [ 0.19078025]\n [ 0.14319485]\n [ 0.1332424 ]] [[ 0.31124018]\n [ 0.24028187]\n [ 0.17856259]\n [ 0.13779327]\n [ 0.13212209]]\n"
     ]
    }
   ],
   "source": [
    "p0 = pc\n",
    "p1 = np.dot(P.T,p0)\n",
    "p2 = np.dot(P.T,p1)\n",
    "p3 = np.dot(P.T,p2)\n",
    "print(p0,p1,p2,p3)\n",
    "\n",
    "    \n",
    "    "
   ]
  },
  {
   "cell_type": "code",
   "execution_count": 57,
   "metadata": {},
   "outputs": [],
   "source": [
    "for i in range(50):\n",
    "    pcc = np.array(pc)\n",
    "    pc = np.dot(P.T, pcc)\n",
    "    #print(pc)"
   ]
  },
  {
   "cell_type": "code",
   "execution_count": 74,
   "metadata": {},
   "outputs": [
    {
     "name": "stdout",
     "output_type": "stream",
     "text": [
      "[ 0.31511689  0.24031682  0.17531705  0.13688091  0.13236832]\n"
     ]
    },
    {
     "data": {
      "text/plain": [
       "array([[ 0.11234921+0.j        ,  0.28927162+0.j        ,\n         0.23671003+0.j        ,  0.23671003-0.j        ,  0.12495912+0.j        ],\n       [ 0.18628770+0.j        , -0.40451187+0.j        ,\n         0.15490123-0.03483541j,  0.15490123+0.03483541j, -0.09166053+0.j        ],\n       [ 0.11207581+0.j        ,  0.03362725+0.j        ,\n        -0.30734283+0.22436416j, -0.30734283-0.22436416j,  0.09324795+0.j        ],\n       [ 0.08193252+0.j        , -0.06426327+0.j        ,\n        -0.18125566-0.03482187j, -0.18125566+0.03482187j, -0.48466372+0.j        ],\n       [ 0.10030067+0.j        , -0.17788413+0.j        ,\n        -0.06074641-0.18780755j, -0.06074641+0.18780755j,  0.32704031+0.j        ]])"
      ]
     },
     "execution_count": 74,
     "metadata": {},
     "output_type": "execute_result"
    }
   ],
   "source": [
    "\n",
    "def sumabs(x):\n",
    "    return sum(abs(x))\n",
    "eigvalue, eigenvectors = np.linalg.eig(P.T)\n",
    "\n",
    "j_stationary = np.argmin(abs(eigvalue - 1.0))\n",
    "p_stationary = eigenvectors [:,j_stationary].real\n",
    "p_stationary /= p_stationary.sum()\n",
    "print(p_stationary)\n",
    "\n",
    "#row_sums = eigv.sum(axis=1)\n",
    "#P = eigv  / row_sums[:, np.newaxis]\n",
    "row_sums = np.apply_along_axis(sumabs,1,eigenvectors )\n",
    "eigenvectors = eigenvectors / row_sums[:, np.newaxis]\n",
    "eigenvectors "
   ]
  },
  {
   "cell_type": "code",
   "execution_count": null,
   "metadata": {},
   "outputs": [],
   "source": []
  }
 ],
 "metadata": {
  "kernelspec": {
   "display_name": "Python 2",
   "language": "python",
   "name": "python2"
  },
  "language_info": {
   "codemirror_mode": {
    "name": "ipython",
    "version": 2
   },
   "file_extension": ".py",
   "mimetype": "text/x-python",
   "name": "python",
   "nbconvert_exporter": "python",
   "pygments_lexer": "ipython2",
   "version": "2.7.6"
  }
 },
 "nbformat": 4,
 "nbformat_minor": 0
}
