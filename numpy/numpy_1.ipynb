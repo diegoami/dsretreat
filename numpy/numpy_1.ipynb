{
 "cells": [
  {
   "cell_type": "code",
   "execution_count": 1,
   "metadata": {
    "collapsed": true
   },
   "outputs": [],
   "source": [
    "from numpy  import *\n",
    "a = arange(15).reshape(3, 5)"
   ]
  },
  {
   "cell_type": "code",
   "execution_count": 2,
   "metadata": {},
   "outputs": [
    {
     "data": {
      "text/plain": [
       "array([[ 0,  1,  2,  3,  4],\n       [ 5,  6,  7,  8,  9],\n       [10, 11, 12, 13, 14]])"
      ]
     },
     "execution_count": 2,
     "metadata": {},
     "output_type": "execute_result"
    }
   ],
   "source": [
    "a"
   ]
  },
  {
   "cell_type": "code",
   "execution_count": 3,
   "metadata": {},
   "outputs": [
    {
     "name": "stdout",
     "output_type": "stream",
     "text": [
      "a.ndim = 2\na.shape = (3, 5)\na.size = (3, 5)\na.itemsize = (3, 5)\na.data = (3, 5)\n"
     ]
    }
   ],
   "source": [
    "print(\"a.ndim = {}\".format(a.ndim))\n",
    "print(\"a.shape = {}\".format(a.shape))\n",
    "print(\"a.size = {}\".format(a.shape))\n",
    "print(\"a.itemsize = {}\".format(a.shape))\n",
    "print(\"a.data = {}\".format(a.shape))\n",
    "\n"
   ]
  },
  {
   "cell_type": "code",
   "execution_count": 5,
   "metadata": {},
   "outputs": [
    {
     "name": "stdout",
     "output_type": "stream",
     "text": [
      "====  a  ====\n[1 2 3 4]\n====  b  ====\n[[ 1.5  2.   3. ]\n [ 4.   5.   6. ]]\n====  c  ====\n[[ 1.+0.j  2.+0.j]\n [ 3.+0.j  4.+0.j]]\n"
     ]
    }
   ],
   "source": [
    "a = array([1,2,3,4])\n",
    "b = array( [ (1.5,2,3), (4,5,6) ] )\n",
    "c = array( [ [1,2], [3,4] ], dtype=complex )\n",
    "print(\"====  a  ====\",a,sep='\\n')\n",
    "print(\"====  b  ====\",b,sep='\\n')\n",
    "print(\"====  c  ====\",c,sep='\\n')\n"
   ]
  },
  {
   "cell_type": "code",
   "execution_count": 6,
   "metadata": {},
   "outputs": [
    {
     "name": "stdout",
     "output_type": "stream",
     "text": [
      "zeros( (3,4) )\n[[ 0.  0.  0.  0.]\n [ 0.  0.  0.  0.]\n [ 0.  0.  0.  0.]]\nones( (2, 3, 4), dtype=int16   )\n[[[1 1 1 1]\n  [1 1 1 1]\n  [1 1 1 1]]\n\n [[1 1 1 1]\n  [1 1 1 1]\n  [1 1 1 1]]]\n"
     ]
    }
   ],
   "source": [
    "print(\"zeros( (3,4) )\", zeros( (3,4) ), sep='\\n')\n",
    "print(\"ones( (2, 3, 4), dtype=int16   )\", ones( (2, 3, 4), dtype=int16   ), sep='\\n')\n"
   ]
  },
  {
   "cell_type": "code",
   "execution_count": 7,
   "metadata": {},
   "outputs": [
    {
     "name": "stdout",
     "output_type": "stream",
     "text": [
      "arange( 10, 30, 5 )\n[10 15 20 25]\narange( 0, 2, 0.3 )\n[ 0.   0.3  0.6  0.9  1.2  1.5  1.8]\n"
     ]
    }
   ],
   "source": [
    "print(\"arange( 10, 30, 5 )\", arange( 10, 30, 5 ), sep='\\n')\n",
    "print(\"arange( 0, 2, 0.3 )\", arange( 0, 2, 0.3 ), sep='\\n')"
   ]
  },
  {
   "cell_type": "code",
   "execution_count": 8,
   "metadata": {},
   "outputs": [
    {
     "name": "stdout",
     "output_type": "stream",
     "text": [
      "linspace( 0, 2, 9 )\n[ 0.    0.25  0.5   0.75  1.    1.25  1.5   1.75  2.  ]\nlinspace( 0, 2*pi, 100 )\n[ 0.          0.06346652  0.12693304  0.19039955  0.25386607  0.31733259\n  0.38079911  0.44426563  0.50773215  0.57119866  0.63466518  0.6981317\n  0.76159822  0.82506474  0.88853126  0.95199777  1.01546429  1.07893081\n  1.14239733  1.20586385  1.26933037  1.33279688  1.3962634   1.45972992\n  1.52319644  1.58666296  1.65012947  1.71359599  1.77706251  1.84052903\n  1.90399555  1.96746207  2.03092858  2.0943951   2.15786162  2.22132814\n  2.28479466  2.34826118  2.41172769  2.47519421  2.53866073  2.60212725\n  2.66559377  2.72906028  2.7925268   2.85599332  2.91945984  2.98292636\n  3.04639288  3.10985939  3.17332591  3.23679243  3.30025895  3.36372547\n  3.42719199  3.4906585   3.55412502  3.61759154  3.68105806  3.74452458\n  3.8079911   3.87145761  3.93492413  3.99839065  4.06185717  4.12532369\n  4.1887902   4.25225672  4.31572324  4.37918976  4.44265628  4.5061228\n  4.56958931  4.63305583  4.69652235  4.75998887  4.82345539  4.88692191\n  4.95038842  5.01385494  5.07732146  5.14078798  5.2042545   5.26772102\n  5.33118753  5.39465405  5.45812057  5.52158709  5.58505361  5.64852012\n  5.71198664  5.77545316  5.83891968  5.9023862   5.96585272  6.02931923\n  6.09278575  6.15625227  6.21971879  6.28318531]\n"
     ]
    }
   ],
   "source": [
    "print( \"linspace( 0, 2, 9 )\",  linspace( 0, 2, 9 ), sep='\\n')\n",
    "print( \"linspace( 0, 2*pi, 100 )\",  linspace( 0, 2*pi, 100), sep='\\n')"
   ]
  },
  {
   "cell_type": "code",
   "execution_count": 2,
   "metadata": {},
   "outputs": [
    {
     "name": "stdout",
     "output_type": "stream",
     "text": [
      "arange(6)\n[0 1 2 3 4 5]\narange(12).reshape(4,3)\n[[ 0  1  2]\n [ 3  4  5]\n [ 6  7  8]\n [ 9 10 11]]\narange(24).reshape(2,3,4)\n[[[ 0  1  2  3]\n  [ 4  5  6  7]\n  [ 8  9 10 11]]\n\n [[12 13 14 15]\n  [16 17 18 19]\n  [20 21 22 23]]]\n"
     ]
    }
   ],
   "source": [
    " from numpy import *\n",
    " print(\"arange(6)\",arange(6),sep='\\n')\n",
    " print(\"arange(12).reshape(4,3)\",arange(12).reshape(4,3),sep='\\n')\n",
    " print(\"arange(24).reshape(2,3,4)\",arange(24).reshape(2,3,4),sep='\\n')"
   ]
  },
  {
   "cell_type": "code",
   "execution_count": 3,
   "metadata": {},
   "outputs": [
    {
     "name": "stdout",
     "output_type": "stream",
     "text": [
      "[   0    1    2 ..., 9997 9998 9999]\n"
     ]
    }
   ],
   "source": [
    "print(arange(10000))"
   ]
  },
  {
   "cell_type": "code",
   "execution_count": 6,
   "metadata": {},
   "outputs": [
    {
     "name": "stdout",
     "output_type": "stream",
     "text": [
      "[[   0    1    2 ...,   97   98   99]\n [ 100  101  102 ...,  197  198  199]\n [ 200  201  202 ...,  297  298  299]\n ..., \n [9700 9701 9702 ..., 9797 9798 9799]\n [9800 9801 9802 ..., 9897 9898 9899]\n [9900 9901 9902 ..., 9997 9998 9999]]\n"
     ]
    }
   ],
   "source": [
    " print(arange(10000).reshape(100,100))"
   ]
  },
  {
   "cell_type": "code",
   "execution_count": null,
   "metadata": {},
   "outputs": [
    {
     "ename": "TypeError",
     "evalue": "'>' not supported between instances of 'int' and 'str'",
     "traceback": [
      "\u001b[0;31m---------------------------------------------------------------------------\u001b[0m",
      "\u001b[0;31mTypeError\u001b[0m                                 Traceback (most recent call last)",
      "\u001b[0;32m<ipython-input-7-67c3d03fd927>\u001b[0m in \u001b[0;36m<module>\u001b[0;34m()\u001b[0m\n\u001b[1;32m      1\u001b[0m \u001b[0mset_printoptions\u001b[0m\u001b[0;34m(\u001b[0m\u001b[0mthreshold\u001b[0m\u001b[0;34m=\u001b[0m\u001b[0;34m'nan'\u001b[0m\u001b[0;34m)\u001b[0m\u001b[0;34m\u001b[0m\u001b[0m\n\u001b[0;32m----> 2\u001b[0;31m \u001b[0mprint\u001b[0m\u001b[0;34m(\u001b[0m\u001b[0marange\u001b[0m\u001b[0;34m(\u001b[0m\u001b[0;36m10000\u001b[0m\u001b[0;34m)\u001b[0m\u001b[0;34m)\u001b[0m\u001b[0;34m\u001b[0m\u001b[0m\n\u001b[0m",
      "\u001b[0;32m~/anaconda3/envs/dsretreat/lib/python3.6/site-packages/numpy/core/numeric.py\u001b[0m in \u001b[0;36marray_str\u001b[0;34m(a, max_line_width, precision, suppress_small)\u001b[0m\n\u001b[1;32m   1937\u001b[0m \u001b[0;34m\u001b[0m\u001b[0m\n\u001b[1;32m   1938\u001b[0m     \"\"\"\n\u001b[0;32m-> 1939\u001b[0;31m     \u001b[0;32mreturn\u001b[0m \u001b[0marray2string\u001b[0m\u001b[0;34m(\u001b[0m\u001b[0ma\u001b[0m\u001b[0;34m,\u001b[0m \u001b[0mmax_line_width\u001b[0m\u001b[0;34m,\u001b[0m \u001b[0mprecision\u001b[0m\u001b[0;34m,\u001b[0m \u001b[0msuppress_small\u001b[0m\u001b[0;34m,\u001b[0m \u001b[0;34m' '\u001b[0m\u001b[0;34m,\u001b[0m \u001b[0;34m\"\"\u001b[0m\u001b[0;34m,\u001b[0m \u001b[0mstr\u001b[0m\u001b[0;34m)\u001b[0m\u001b[0;34m\u001b[0m\u001b[0m\n\u001b[0m\u001b[1;32m   1940\u001b[0m \u001b[0;34m\u001b[0m\u001b[0m\n\u001b[1;32m   1941\u001b[0m \u001b[0;34m\u001b[0m\u001b[0m\n",
      "\u001b[0;32m~/anaconda3/envs/dsretreat/lib/python3.6/site-packages/numpy/core/arrayprint.py\u001b[0m in \u001b[0;36mwrapper\u001b[0;34m(self, *args, **kwargs)\u001b[0m\n\u001b[1;32m    386\u001b[0m             \u001b[0mrepr_running\u001b[0m\u001b[0;34m.\u001b[0m\u001b[0madd\u001b[0m\u001b[0;34m(\u001b[0m\u001b[0mkey\u001b[0m\u001b[0;34m)\u001b[0m\u001b[0;34m\u001b[0m\u001b[0m\n\u001b[1;32m    387\u001b[0m             \u001b[0;32mtry\u001b[0m\u001b[0;34m:\u001b[0m\u001b[0;34m\u001b[0m\u001b[0m\n\u001b[0;32m--> 388\u001b[0;31m                 \u001b[0;32mreturn\u001b[0m \u001b[0mf\u001b[0m\u001b[0;34m(\u001b[0m\u001b[0mself\u001b[0m\u001b[0;34m,\u001b[0m \u001b[0;34m*\u001b[0m\u001b[0margs\u001b[0m\u001b[0;34m,\u001b[0m \u001b[0;34m**\u001b[0m\u001b[0mkwargs\u001b[0m\u001b[0;34m)\u001b[0m\u001b[0;34m\u001b[0m\u001b[0m\n\u001b[0m\u001b[1;32m    389\u001b[0m             \u001b[0;32mfinally\u001b[0m\u001b[0;34m:\u001b[0m\u001b[0;34m\u001b[0m\u001b[0m\n\u001b[1;32m    390\u001b[0m                 \u001b[0mrepr_running\u001b[0m\u001b[0;34m.\u001b[0m\u001b[0mdiscard\u001b[0m\u001b[0;34m(\u001b[0m\u001b[0mkey\u001b[0m\u001b[0;34m)\u001b[0m\u001b[0;34m\u001b[0m\u001b[0m\n",
      "\u001b[0;32m~/anaconda3/envs/dsretreat/lib/python3.6/site-packages/numpy/core/arrayprint.py\u001b[0m in \u001b[0;36marray2string\u001b[0;34m(a, max_line_width, precision, suppress_small, separator, prefix, style, formatter)\u001b[0m\n\u001b[1;32m    521\u001b[0m     \u001b[0;32melse\u001b[0m\u001b[0;34m:\u001b[0m\u001b[0;34m\u001b[0m\u001b[0m\n\u001b[1;32m    522\u001b[0m         lst = _array2string(a, max_line_width, precision, suppress_small,\n\u001b[0;32m--> 523\u001b[0;31m                             separator, prefix, formatter=formatter)\n\u001b[0m\u001b[1;32m    524\u001b[0m     \u001b[0;32mreturn\u001b[0m \u001b[0mlst\u001b[0m\u001b[0;34m\u001b[0m\u001b[0m\n\u001b[1;32m    525\u001b[0m \u001b[0;34m\u001b[0m\u001b[0m\n",
      "\u001b[0;32m~/anaconda3/envs/dsretreat/lib/python3.6/site-packages/numpy/core/arrayprint.py\u001b[0m in \u001b[0;36m_array2string\u001b[0;34m(a, max_line_width, precision, suppress_small, separator, prefix, formatter)\u001b[0m\n\u001b[1;32m    344\u001b[0m                   prefix=\"\", formatter=None):\n\u001b[1;32m    345\u001b[0m \u001b[0;34m\u001b[0m\u001b[0m\n\u001b[0;32m--> 346\u001b[0;31m     \u001b[0;32mif\u001b[0m \u001b[0ma\u001b[0m\u001b[0;34m.\u001b[0m\u001b[0msize\u001b[0m \u001b[0;34m>\u001b[0m \u001b[0m_summaryThreshold\u001b[0m\u001b[0;34m:\u001b[0m\u001b[0;34m\u001b[0m\u001b[0m\n\u001b[0m\u001b[1;32m    347\u001b[0m         \u001b[0msummary_insert\u001b[0m \u001b[0;34m=\u001b[0m \u001b[0;34m\"..., \"\u001b[0m\u001b[0;34m\u001b[0m\u001b[0m\n\u001b[1;32m    348\u001b[0m         \u001b[0mdata\u001b[0m \u001b[0;34m=\u001b[0m \u001b[0m_leading_trailing\u001b[0m\u001b[0;34m(\u001b[0m\u001b[0ma\u001b[0m\u001b[0;34m)\u001b[0m\u001b[0;34m\u001b[0m\u001b[0m\n",
      "\u001b[0;31mTypeError\u001b[0m: '>' not supported between instances of 'int' and 'str'"
     ],
     "output_type": "error"
    }
   ],
   "source": [
    "set_printoptions(threshold='nan')\n",
    "print(arange(10000))"
   ]
  },
  {
   "cell_type": "code",
   "execution_count": 10,
   "metadata": {},
   "outputs": [
    {
     "name": "stdout",
     "output_type": "stream",
     "text": [
      "[   0    1    2 ..., 9997 9998 9999]\n"
     ]
    }
   ],
   "source": [
    "set_printoptions(threshold=1000)\n",
    "print(arange(10000))"
   ]
  },
  {
   "cell_type": "code",
   "execution_count": 11,
   "metadata": {},
   "outputs": [
    {
     "name": "stdout",
     "output_type": "stream",
     "text": [
      "b\n[0 1 2 3]\nc\n[20 29 38 47]\nb**2\n[0 1 4 9]\n10*sin(a)\n[ 9.12945251 -9.88031624  7.4511316  -2.62374854]\na<35\n[ True  True False False]\n"
     ]
    }
   ],
   "source": [
    "a = array( [20,30,40,50] )\n",
    "b = arange( 4 )\n",
    "print('b',b,sep='\\n')\n",
    "c = a-b\n",
    "print('c',c,sep='\\n')\n",
    "print('b**2',b**2,sep='\\n')\n",
    "print('10*sin(a)',10*sin(a),sep='\\n')\n",
    "print('a<35',a<35,sep='\\n')\n"
   ]
  },
  {
   "cell_type": "code",
   "execution_count": 12,
   "metadata": {},
   "outputs": [
    {
     "name": "stdout",
     "output_type": "stream",
     "text": [
      "A*B\n[[2 0]\n [0 4]]\ndot(A,B)\n[[5 4]\n [3 4]]\n"
     ]
    }
   ],
   "source": [
    "A = array( [[1,1],\n",
    "            [0,1]] )\n",
    "B = array( [[2,0],\n",
    "            [3,4]] )\n",
    "print(\"A*B\",A*B,sep='\\n')                         # elementwise product\n",
    "print(\"dot(A,B)\",dot(A,B),sep='\\n')\n"
   ]
  },
  {
   "cell_type": "code",
   "execution_count": 18,
   "metadata": {},
   "outputs": [
    {
     "name": "stdout",
     "output_type": "stream",
     "text": [
      "a\n[[ 3.  3.  3.]\n [ 3.  3.  3.]]\nb\n[[ 3.4079429   3.15008325  3.004162  ]\n [ 3.1516612   3.25090474  3.91949062]]\na\n[[ 6.4079429   6.15008325  6.004162  ]\n [ 6.1516612   6.25090474  6.91949062]]\n"
     ]
    }
   ],
   "source": [
    "a = ones((2,3))\n",
    "b = random.random((2,3))\n",
    "a *= 3\n",
    "print(\"a\",a,sep='\\n')\n",
    "b += a\n",
    "print(\"b\",b,sep='\\n')\n",
    "a += b                                  # b is converted to integer type\n",
    "print(\"a\",a,sep='\\n')\n",
    "\n"
   ]
  },
  {
   "cell_type": "code",
   "execution_count": 19,
   "metadata": {},
   "outputs": [
    {
     "name": "stdout",
     "output_type": "stream",
     "text": [
      "c\n[ 1.          2.57079633  4.14159265]\nd\n[ 0.54030231+0.84147098j -0.84147098+0.54030231j -0.54030231-0.84147098j]\n"
     ]
    },
    {
     "data": {
      "text/plain": [
       "'complex128'"
      ]
     },
     "execution_count": 19,
     "metadata": {},
     "output_type": "execute_result"
    }
   ],
   "source": [
    "a = ones(3, dtype=int32)\n",
    "b = linspace(0,pi,3)\n",
    "b.dtype.name\n",
    "c = a+b\n",
    "print(\"c\",c,sep='\\n')\n",
    "c.dtype.name\n",
    "d = exp(c*1j)\n",
    "print(\"d\",d,sep='\\n')\n",
    "d.dtype.name"
   ]
  },
  {
   "cell_type": "code",
   "execution_count": 20,
   "metadata": {},
   "outputs": [
    {
     "name": "stdout",
     "output_type": "stream",
     "text": [
      "a\n[[ 0.54453131  0.6498652   0.1616362 ]\n [ 0.10223657  0.54596983  0.16876136]]\na.sum()\n2.1730004737\na.min()\n0.649865198142\na.min()\n0.649865198142\n"
     ]
    }
   ],
   "source": [
    "a = random.random((2,3))\n",
    "print(\"a\",a,sep='\\n')\n",
    "print(\"a.sum()\",a.sum(),sep='\\n')\n",
    "print(\"a.min()\",a.max(),sep='\\n')\n",
    "print(\"a.min()\",a.max(),sep='\\n')\n"
   ]
  },
  {
   "cell_type": "code",
   "execution_count": 21,
   "metadata": {},
   "outputs": [
    {
     "name": "stdout",
     "output_type": "stream",
     "text": [
      "b\n[[ 0  1  2  3]\n [ 4  5  6  7]\n [ 8  9 10 11]]\nb.sum(axis=0)\n[12 15 18 21]\nb.min(axis=1)\n[0 4 8]\nb.cumsum(axis=1)\n[[ 0  1  3  6]\n [ 4  9 15 22]\n [ 8 17 27 38]]\n"
     ]
    }
   ],
   "source": [
    "b = arange(12).reshape(3,4)\n",
    "print(\"b\",b,sep='\\n')\n",
    "print(\"b.sum(axis=0)\",b.sum(axis=0),sep='\\n')\n",
    "print(\"b.min(axis=1)\",b.min(axis=1),sep='\\n')\n",
    "print(\"b.cumsum(axis=1)\",b.cumsum(axis=1),sep='\\n')\n",
    "                            # sum of each column\n",
    "                            # min of each row\n",
    "                         # cumulative sum along each row\n"
   ]
  },
  {
   "cell_type": "code",
   "execution_count": 23,
   "metadata": {},
   "outputs": [
    {
     "name": "stdout",
     "output_type": "stream",
     "text": [
      "B\n[0 1 2]\nexp(B)\n[ 1.          2.71828183  7.3890561 ]\nsqrt(B)\n[ 0.          1.          1.41421356]\nC\n[ 2. -1.  4.]\nadd(B, C)\n[ 2.  0.  6.]\n"
     ]
    }
   ],
   "source": [
    "B = arange(3)\n",
    "print(\"B\",B,sep='\\n')\n",
    "print(\"exp(B)\",exp(B),sep='\\n')\n",
    "print(\"sqrt(B)\", sqrt(B),sep='\\n')\n",
    "\n",
    "C = array([2., -1., 4.])\n",
    "print(\"C\",C,sep='\\n')\n",
    "\n",
    "print(\"add(B, C)\", add(B, C),sep='\\n')\n",
    "\n"
   ]
  },
  {
   "cell_type": "code",
   "execution_count": 26,
   "metadata": {},
   "outputs": [
    {
     "name": "stdout",
     "output_type": "stream",
     "text": [
      "[  0   1   8  27  64 125 216 343 512 729]\n8\n[ 8 27 64]\n[ 0  8 64]\n[729 512 343 216 125  64  27   8   1   0]\n0.0\n1.0\n2.0\n3.0\n4.0\n5.0\n6.0\n7.0\n8.0\n9.0\n"
     ]
    }
   ],
   "source": [
    "a = arange(10)**3\n",
    "print(a)\n",
    "print(a[2])\n",
    "\n",
    "print(a[2:5])\n",
    "print(a[:6:2])\n",
    "print(a[ : :-1])                                 # reversed a\n",
    "for i in a:\n",
    "    print(i**(1/3.),)\n"
   ]
  },
  {
   "cell_type": "code",
   "execution_count": 34,
   "metadata": {},
   "outputs": [
    {
     "name": "stdout",
     "output_type": "stream",
     "text": [
      "[[ 0  1  2  3]\n [10 11 12 13]\n [20 21 22 23]\n [30 31 32 33]\n [40 41 42 43]]\n23\n[ 1 11 21 31 41]\n[ 1 11 21 31 41]\n[[10 11 12 13]\n [20 21 22 23]]\n[40 41 42 43]\n[0 1 2 3]\n[10 11 12 13]\n[20 21 22 23]\n[30 31 32 33]\n[40 41 42 43]\n"
     ]
    }
   ],
   "source": [
    "def f(x,y):\n",
    "    return 10*x+y\n",
    "\n",
    "b = fromfunction(f,(5,4),dtype=int)\n",
    "print(b)\n",
    "array([[ 0,  1,  2,  3],\n",
    "       [10, 11, 12, 13],\n",
    "       [20, 21, 22, 23],\n",
    "       [30, 31, 32, 33],\n",
    "       [40, 41, 42, 43]])\n",
    "print(b[2,3])\n",
    "\n",
    "print(b[0:5, 1])                       # each row in the second column of b\n",
    "print(b[ : ,1])                        # equivalent to the previous example\n",
    "print(b[1:3, : ])                      # each column in the second and third row of b\n",
    "print(b[-1])\n",
    "for row in b:\n",
    "    print(row)\n",
    "for element in b.flat:\n",
    "    print(element)"
   ]
  },
  {
   "cell_type": "code",
   "execution_count": 28,
   "metadata": {},
   "outputs": [
    {
     "data": {
      "text/plain": [
       "array([40, 41, 42, 43])"
      ]
     },
     "execution_count": 28,
     "metadata": {},
     "output_type": "execute_result"
    }
   ],
   "source": [
    "b[-1]                                  # the last row. Equivalent to b[-1,:]\n",
    "array([40, 41, 42, 43])"
   ]
  },
  {
   "cell_type": "code",
   "execution_count": 31,
   "metadata": {},
   "outputs": [
    {
     "name": "stdout",
     "output_type": "stream",
     "text": [
      "(2, 2, 3)\n[[100 101 102]\n [110 112 113]]\n[[  2  13]\n [102 113]]\n"
     ]
    }
   ],
   "source": [
    "c = array( [ [[  0,  1,  2],               # a 3D array (two stacked 2D arrays)\n",
    "    [ 10, 12, 13]],\n",
    "\n",
    "    [[100,101,102],\n",
    "    [110,112,113]] ] )\n",
    "print(c.shape)\n",
    "print(c[1,...])                                   # same as c[1,:,:] or c[1]\n",
    "print(c[...,2])                                   # same as c[:,:,2]\n"
   ]
  },
  {
   "cell_type": "code",
   "execution_count": 7,
   "metadata": {},
   "outputs": [
    {
     "data": {
      "text/plain": [
       "array([[ 7.,  2.,  2.],\n       [ 1.,  1.,  5.],\n       [ 7.,  1.,  9.],\n       [ 1.,  4.,  0.]])"
      ]
     },
     "execution_count": 7,
     "metadata": {},
     "output_type": "execute_result"
    }
   ],
   "source": [
    "from numpy  import floor\n",
    "from  numpy import random\n",
    "a = floor(10*random.random((3,4)))\n",
    "a.transpose()"
   ]
  },
  {
   "cell_type": "code",
   "execution_count": 9,
   "metadata": {},
   "outputs": [],
   "source": [
    "a.resize((2,6))"
   ]
  },
  {
   "cell_type": "code",
   "execution_count": 10,
   "metadata": {},
   "outputs": [
    {
     "data": {
      "text/plain": [
       "array([[ 7.,  1.,  7.,  1.,  2.,  1.],\n       [ 1.,  4.,  2.,  5.,  9.,  0.]])"
      ]
     },
     "execution_count": 10,
     "metadata": {},
     "output_type": "execute_result"
    }
   ],
   "source": [
    "a"
   ]
  },
  {
   "cell_type": "code",
   "execution_count": 12,
   "metadata": {},
   "outputs": [
    {
     "name": "stdout",
     "output_type": "stream",
     "text": [
      "[[ 9.  5.]\n [ 7.  0.]\n [ 8.  1.]\n [ 8.  5.]]\n[[ 9.  5.  8.  1.]\n [ 7.  0.  8.  5.]]\n"
     ]
    }
   ],
   "source": [
    "from numpy import *\n",
    "a = floor(10*random.random((2,2)))\n",
    "b = floor(10*random.random((2,2)))\n",
    "print(vstack((a,b)))\n",
    "print(hstack((a,b)))"
   ]
  },
  {
   "cell_type": "code",
   "execution_count": 14,
   "metadata": {},
   "outputs": [
    {
     "name": "stdout",
     "output_type": "stream",
     "text": [
      "[[ 4.  2.]\n [ 2.  8.]]\n[[ 4.]\n [ 2.]]\n[[ 4.  2.]\n [ 2.  8.]]\n[[ 4.]\n [ 2.]\n [ 2.]\n [ 8.]]\n"
     ]
    }
   ],
   "source": [
    "print(column_stack((a,b)))   # With 2D arrays\n",
    "a=array([4.,2.])\n",
    "b=array([2.,8.])\n",
    "print(a[:,newaxis])  # This allows to have a 2D columns vector\n",
    "print(column_stack((a[:,newaxis],b[:,newaxis])))\n",
    "\n",
    "print(vstack((a[:,newaxis],b[:,newaxis])))\n"
   ]
  },
  {
   "cell_type": "code",
   "execution_count": 16,
   "metadata": {},
   "outputs": [
    {
     "name": "stdout",
     "output_type": "stream",
     "text": [
      "[1 2 3 0 4]\n"
     ]
    }
   ],
   "source": [
    "print(r_[1:4,0,4])"
   ]
  },
  {
   "cell_type": "code",
   "execution_count": 17,
   "metadata": {},
   "outputs": [
    {
     "name": "stdout",
     "output_type": "stream",
     "text": [
      "[[ 5.  2.  7.  0.  5.  6.  4.  2.  9.  7.  7.  8.]\n [ 5.  8.  5.  7.  4.  2.  3.  3.  0.  2.  2.  6.]]\n[array([[ 5.,  2.,  7.,  0.],\n       [ 5.,  8.,  5.,  7.]]), array([[ 5.,  6.,  4.,  2.],\n       [ 4.,  2.,  3.,  3.]]), array([[ 9.,  7.,  7.,  8.],\n       [ 0.,  2.,  2.,  6.]])]\n[array([[ 5.,  2.,  7.],\n       [ 5.,  8.,  5.]]), array([[ 0.],\n       [ 7.]]), array([[ 5.,  6.,  4.,  2.,  9.,  7.,  7.,  8.],\n       [ 4.,  2.,  3.,  3.,  0.,  2.,  2.,  6.]])]\n"
     ]
    }
   ],
   "source": [
    "a = floor(10*random.random((2,12)))\n",
    "print(a)\n",
    "print(hsplit(a,3))\n",
    "\n",
    "print(hsplit(a,(3,4)))\n"
   ]
  },
  {
   "cell_type": "code",
   "execution_count": 18,
   "metadata": {},
   "outputs": [
    {
     "name": "stdout",
     "output_type": "stream",
     "text": [
      "False\nTrue\nFalse\n(2, 12) (2, 12) 5.0\n[[ 5.  2.  7.  0.  5.  6.  4.  2.  9.  7.  7.  8.]\n [ 5.  8.  5.  7.  4.  2.  3.  3.  0.  2.  2.  6.]]\n"
     ]
    }
   ],
   "source": [
    "c = a.view()\n",
    "print(c is a)\n",
    "\n",
    "print(c.base is a)                        # c is a view of the data owned by a\n",
    "\n",
    "print(c.flags.owndata)\n",
    "print(c.shape, a.shape, c[0,4])                      # a's shape doesn't change\n",
    "print(a)"
   ]
  },
  {
   "cell_type": "code",
   "execution_count": 20,
   "metadata": {},
   "outputs": [
    {
     "name": "stdout",
     "output_type": "stream",
     "text": [
      "[[  5.  10.  10.   0.   5.   6.   4.   2.   9.   7.   7.   8.]\n [  5.  10.  10.   7.   4.   2.   3.   3.   0.   2.   2.   6.]]\n"
     ]
    }
   ],
   "source": [
    "s = a[ : , 1:3]     # spaces added for clarity; could also be written \"s = a[:,1:3]\"\n",
    "s[:] = 10           # s[:] is a view of s. Note the difference between s=10 and s[:]=10\n",
    "print(a)"
   ]
  },
  {
   "cell_type": "code",
   "execution_count": 22,
   "metadata": {},
   "outputs": [
    {
     "name": "stdout",
     "output_type": "stream",
     "text": [
      "False\nFalse\n[[  5.  10.  10.   0.   5.   6.   4.   2.   9.   7.   7.   8.]\n [  5.  10.  10.   7.   4.   2.   3.   3.   0.   2.   2.   6.]]\n"
     ]
    }
   ],
   "source": [
    "d = a.copy()                          # a new array object with new data is created\n",
    "print(d is a)\n",
    "\n",
    "print(d.base is a)                           # d doesn't share anything with a\n",
    "\n",
    "d[0,0] = 9999\n",
    "print(a)\n"
   ]
  },
  {
   "cell_type": "code",
   "execution_count": 24,
   "metadata": {},
   "outputs": [
    {
     "name": "stdout",
     "output_type": "stream",
     "text": [
      "[ 1  1  9 64 25]\n[[ 9 16]\n [81 49]]\n"
     ]
    }
   ],
   "source": [
    "a = arange(12)**2                          # the first 12 square numbers\n",
    "i = array( [ 1,1,3,8,5 ] )                 # an array of indices\n",
    "print(a[i])                                       # the elements of a at the positions i\n",
    "j = array( [ [ 3, 4], [ 9, 7 ] ] )         # a bidimensional array of indices\n",
    "print(a[j])                                       # the same shape as j\n"
   ]
  },
  {
   "cell_type": "code",
   "execution_count": 26,
   "metadata": {},
   "outputs": [
    {
     "name": "stdout",
     "output_type": "stream",
     "text": [
      "[[[  0   0   0]\n  [255   0   0]\n  [  0 255   0]\n  [  0   0   0]]\n\n [[  0   0   0]\n  [  0   0 255]\n  [255 255 255]\n  [  0   0   0]]]\n"
     ]
    }
   ],
   "source": [
    "palette = array( [ [0,0,0],                # black\n",
    "                [255,0,0],              # red\n",
    "                [0,255,0],              # green\n",
    "                [0,0,255],              # blue\n",
    "                [255,255,255] ] )       # white\n",
    "image = array( [ [ 0, 1, 2, 0 ],           # each value corresponds to a color in the palette\n",
    "                [ 0, 3, 4, 0 ]  ] )\n",
    "print(palette[image])                            # the (2,4,3) color image\n"
   ]
  },
  {
   "cell_type": "code",
   "execution_count": null,
   "metadata": {},
   "outputs": [],
   "source": []
  }
 ],
 "metadata": {
  "kernelspec": {
   "display_name": "Python 2",
   "language": "python",
   "name": "python2"
  },
  "language_info": {
   "codemirror_mode": {
    "name": "ipython",
    "version": 2
   },
   "file_extension": ".py",
   "mimetype": "text/x-python",
   "name": "python",
   "nbconvert_exporter": "python",
   "pygments_lexer": "ipython2",
   "version": "2.7.6"
  }
 },
 "nbformat": 4,
 "nbformat_minor": 0
}
